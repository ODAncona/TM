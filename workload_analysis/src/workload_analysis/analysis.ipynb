{
 "cells": [
  {
   "cell_type": "markdown",
   "metadata": {},
   "source": [
    "# Workload Analysis\n",
    "\n",
    "This notebook identify representative workload classes (e.g., short CPU-bound jobs, GPU-heavy jobs, data-intensive analytics, multi-node MPI jobs, etc.) from Perlmutter job traces.\n",
    "\n",
    "\n",
    "We'll implement K-means clustering and use the elbow method to find the optimal number of clusters, with progress visualization using tqdm."
   ]
  },
  {
   "cell_type": "markdown",
   "metadata": {},
   "source": [
    "**Imports**"
   ]
  },
  {
   "cell_type": "code",
   "execution_count": null,
   "metadata": {},
   "outputs": [
    {
     "ename": "ModuleNotFoundError",
     "evalue": "No module named 'plotly'",
     "output_type": "error",
     "traceback": [
      "\u001b[31m---------------------------------------------------------------------------\u001b[39m",
      "\u001b[31mModuleNotFoundError\u001b[39m                       Traceback (most recent call last)",
      "\u001b[36mCell\u001b[39m\u001b[36m \u001b[39m\u001b[32mIn[4]\u001b[39m\u001b[32m, line 7\u001b[39m\n\u001b[32m      5\u001b[39m \u001b[38;5;28;01mimport\u001b[39;00m\u001b[38;5;250m \u001b[39m\u001b[34;01meda_utils\u001b[39;00m\n\u001b[32m      6\u001b[39m \u001b[38;5;28;01mimport\u001b[39;00m\u001b[38;5;250m \u001b[39m\u001b[34;01mclustering_utils\u001b[39;00m\n\u001b[32m----> \u001b[39m\u001b[32m7\u001b[39m \u001b[38;5;28;01mimport\u001b[39;00m\u001b[38;5;250m \u001b[39m\u001b[34;01mvisualization_utils\u001b[39;00m\n",
      "\u001b[36mFile \u001b[39m\u001b[32m~/projet/tm/perlmutter_workload_analysis/src/workload_analysis/visualization_utils.py:15\u001b[39m\n\u001b[32m     13\u001b[39m \u001b[38;5;28;01mfrom\u001b[39;00m\u001b[38;5;250m \u001b[39m\u001b[34;01msklearn\u001b[39;00m\u001b[34;01m.\u001b[39;00m\u001b[34;01mdecomposition\u001b[39;00m\u001b[38;5;250m \u001b[39m\u001b[38;5;28;01mimport\u001b[39;00m PCA\n\u001b[32m     14\u001b[39m \u001b[38;5;28;01mfrom\u001b[39;00m\u001b[38;5;250m \u001b[39m\u001b[34;01msklearn\u001b[39;00m\u001b[34;01m.\u001b[39;00m\u001b[34;01mmanifold\u001b[39;00m\u001b[38;5;250m \u001b[39m\u001b[38;5;28;01mimport\u001b[39;00m MDS, TSNE\n\u001b[32m---> \u001b[39m\u001b[32m15\u001b[39m \u001b[38;5;28;01mimport\u001b[39;00m\u001b[38;5;250m \u001b[39m\u001b[34;01mplotly\u001b[39;00m\u001b[34;01m.\u001b[39;00m\u001b[34;01mgraph_objs\u001b[39;00m\u001b[38;5;250m \u001b[39m\u001b[38;5;28;01mas\u001b[39;00m\u001b[38;5;250m \u001b[39m\u001b[34;01mgo\u001b[39;00m\n\u001b[32m     16\u001b[39m \u001b[38;5;28;01mimport\u001b[39;00m\u001b[38;5;250m \u001b[39m\u001b[34;01mplotly\u001b[39;00m\u001b[34;01m.\u001b[39;00m\u001b[34;01moffline\u001b[39;00m\u001b[38;5;250m \u001b[39m\u001b[38;5;28;01mas\u001b[39;00m\u001b[38;5;250m \u001b[39m\u001b[34;01mpyo\u001b[39;00m\n\u001b[32m     19\u001b[39m \u001b[38;5;28;01mdef\u001b[39;00m\u001b[38;5;250m \u001b[39m\u001b[34mreduce_dimensions\u001b[39m(X, method=\u001b[33m\"\u001b[39m\u001b[33mpca\u001b[39m\u001b[33m\"\u001b[39m, n_components=\u001b[32m2\u001b[39m, **kwargs):\n",
      "\u001b[31mModuleNotFoundError\u001b[39m: No module named 'plotly'"
     ]
    }
   ],
   "source": [
    "import polars as pl\n",
    "import numpy as np\n",
    "import matplotlib.pyplot as plt\n",
    "from sklearn.datasets import load_iris\n",
    "import eda_utils\n",
    "import clustering_utils\n",
    "import visualization_utils"
   ]
  },
  {
   "cell_type": "markdown",
   "metadata": {},
   "source": [
    "**Load and Explore Dataset**"
   ]
  },
  {
   "cell_type": "code",
   "execution_count": null,
   "metadata": {},
   "outputs": [
    {
     "name": "stdout",
     "output_type": "stream",
     "text": [
      "Loading iris dataset...\n"
     ]
    },
    {
     "ename": "NameError",
     "evalue": "name 'eda_utils' is not defined",
     "output_type": "error",
     "traceback": [
      "\u001b[31m---------------------------------------------------------------------------\u001b[39m",
      "\u001b[31mNameError\u001b[39m                                 Traceback (most recent call last)",
      "\u001b[36mCell\u001b[39m\u001b[36m \u001b[39m\u001b[32mIn[11]\u001b[39m\u001b[32m, line 17\u001b[39m\n\u001b[32m      8\u001b[39m df = pl.DataFrame({\n\u001b[32m      9\u001b[39m     features[\u001b[32m0\u001b[39m]: iris.data[:, \u001b[32m0\u001b[39m],\n\u001b[32m     10\u001b[39m     features[\u001b[32m1\u001b[39m]: iris.data[:, \u001b[32m1\u001b[39m],\n\u001b[32m   (...)\u001b[39m\u001b[32m     13\u001b[39m     \u001b[33m'\u001b[39m\u001b[33mspecies\u001b[39m\u001b[33m'\u001b[39m: [target[i] \u001b[38;5;28;01mfor\u001b[39;00m i \u001b[38;5;129;01min\u001b[39;00m iris.target]\n\u001b[32m     14\u001b[39m })\n\u001b[32m     16\u001b[39m \u001b[38;5;66;03m# Perform exploratory data analysis\u001b[39;00m\n\u001b[32m---> \u001b[39m\u001b[32m17\u001b[39m \u001b[43meda_utils\u001b[49m.describe_dataset(df, target_col=\u001b[33m'\u001b[39m\u001b[33mspecies\u001b[39m\u001b[33m'\u001b[39m)\n\u001b[32m     19\u001b[39m \u001b[38;5;66;03m# Create a pairplot to visualize relationships between features\u001b[39;00m\n\u001b[32m     20\u001b[39m eda_utils.create_pairplot(df, hue=\u001b[33m'\u001b[39m\u001b[33mspecies\u001b[39m\u001b[33m'\u001b[39m, title=\u001b[33m'\u001b[39m\u001b[33mPairplot of Iris Dataset Features\u001b[39m\u001b[33m'\u001b[39m)\n",
      "\u001b[31mNameError\u001b[39m: name 'eda_utils' is not defined"
     ]
    }
   ],
   "source": [
    "# Load the iris dataset\n",
    "print(\"Loading iris dataset...\")\n",
    "iris = load_iris()\n",
    "features = iris.feature_names\n",
    "target = iris.target_names\n",
    "\n",
    "# Convert to polars DataFrame\n",
    "df = pl.DataFrame({\n",
    "    features[0]: iris.data[:, 0],\n",
    "    features[1]: iris.data[:, 1],\n",
    "    features[2]: iris.data[:, 2],\n",
    "    features[3]: iris.data[:, 3],\n",
    "    'species': [target[i] for i in iris.target]\n",
    "})\n",
    "\n",
    "# Perform exploratory data analysis\n",
    "eda_utils.describe_dataset(df, target_col='species')\n",
    "\n",
    "# Create a pairplot to visualize relationships between features\n",
    "eda_utils.create_pairplot(df, hue='species', title='Pairplot of Iris Dataset Features')\n",
    "\n",
    "# Standardize the features (excluding the target column)\n",
    "scaled_df, scaler = eda_utils.standardize_features(df, exclude_cols=['species'])\n",
    "print(\"Standardized Features:\")\n",
    "display(scaled_df.head())\n",
    "\n",
    "# Get standardized data for clustering\n",
    "X = scaled_df.to_numpy()\n",
    "\n",
    "# Find optimal number of clusters using the elbow method\n",
    "k_range = range(1, 11)\n",
    "inertias, times = clustering_utils.find_optimal_k(X, k_range=k_range, verbose=True)\n",
    "\n",
    "# Plot the elbow curve\n",
    "clustering_utils.plot_elbow_method(k_range, inertias, annotate=True)\n",
    "\n",
    "# Apply KMeans clustering with the optimal number of clusters\n",
    "optimal_k = 3  # Based on the elbow method\n",
    "labels, centers, n_clusters = clustering_utils.apply_clustering(\n",
    "    X, algorithm=\"kmeans\", params={\"n_clusters\": optimal_k}\n",
    ")\n",
    "\n",
    "# Add cluster labels to the original dataframe\n",
    "result_df = df.with_columns(pl.Series(name=\"cluster\", values=labels))\n",
    "\n",
    "# Display results\n",
    "print(\"Clustering Results:\")\n",
    "display(result_df.head())\n",
    "\n",
    "# Compare clusters with original species\n",
    "print(\"\\nCluster vs. Species Distribution:\")\n",
    "display(result_df.group_by(['species', 'cluster']).agg(pl.count().alias('count')))\n",
    "\n",
    "# Reduce dimensions for visualization\n",
    "X_pca = visualization_utils.reduce_dimensions(X, method=\"pca\", n_components=2)\n",
    "centers_pca = visualization_utils.reduce_dimensions(centers, method=\"pca\", n_components=2)\n",
    "\n",
    "# Visualize the clusters using matplotlib\n",
    "visualization_utils.plot_clusters_mpl(\n",
    "    X_pca, labels, centers_pca, \n",
    "    title='Iris Clusters (PCA)'\n",
    ")\n",
    "\n",
    "# Visualize the clusters using plotly for interactivity\n",
    "fig = visualization_utils.plot_clusters_plotly(\n",
    "    X_pca, labels, centers_pca,\n",
    "    point_labels=result_df['species'].to_list(),\n",
    "    title='Interactive Iris Clusters (PCA)'\n",
    ")\n",
    "fig.show()\n",
    "\n",
    "# For 3D visualization\n",
    "X_pca_3d = visualization_utils.reduce_dimensions(X, method=\"pca\", n_components=3)\n",
    "centers_pca_3d = visualization_utils.reduce_dimensions(centers, method=\"pca\", n_components=3)\n",
    "\n",
    "fig_3d = visualization_utils.plot_clusters_plotly(\n",
    "    X_pca_3d, labels, centers_pca_3d,\n",
    "    point_labels=result_df['species'].to_list(),\n",
    "    title='Interactive Iris Clusters (PCA 3D)'\n",
    ")\n",
    "fig_3d.show()"
   ]
  },
  {
   "cell_type": "markdown",
   "metadata": {},
   "source": [
    "**Data Visualization**"
   ]
  },
  {
   "cell_type": "markdown",
   "metadata": {},
   "source": [
    "**Data Preprocessing**"
   ]
  },
  {
   "cell_type": "markdown",
   "metadata": {},
   "source": [
    "**Elbow Method**"
   ]
  },
  {
   "cell_type": "markdown",
   "metadata": {},
   "source": [
    "**Clustering with Optimal K**"
   ]
  },
  {
   "cell_type": "markdown",
   "metadata": {},
   "source": [
    "**Visualization**"
   ]
  }
 ],
 "metadata": {
  "kernelspec": {
   "display_name": ".venv",
   "language": "python",
   "name": "python3"
  },
  "language_info": {
   "codemirror_mode": {
    "name": "ipython",
    "version": 3
   },
   "file_extension": ".py",
   "mimetype": "text/x-python",
   "name": "python",
   "nbconvert_exporter": "python",
   "pygments_lexer": "ipython3",
   "version": "3.13.1"
  }
 },
 "nbformat": 4,
 "nbformat_minor": 2
}
