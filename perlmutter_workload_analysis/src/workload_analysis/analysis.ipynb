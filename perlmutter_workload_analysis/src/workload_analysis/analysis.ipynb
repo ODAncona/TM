{
 "cells": [
  {
   "cell_type": "markdown",
   "metadata": {},
   "source": [
    "# Perlmutter Workload Analysis\n",
    "\n",
    "This notebook identify representative workload classes (e.g., short CPU-bound jobs, GPU-heavy jobs, data-intensive analytics, multi-node MPI jobs, etc.) from Perlmutter job traces.\n",
    "\n",
    "\n",
    "We'll implement K-means clustering and use the elbow method to find the optimal number of clusters, with progress visualization using tqdm."
   ]
  },
  {
   "cell_type": "markdown",
   "metadata": {},
   "source": [
    "**Imports**"
   ]
  },
  {
   "cell_type": "code",
   "execution_count": 3,
   "metadata": {},
   "outputs": [],
   "source": [
    "import polars as pl\n",
    "import numpy as np\n",
    "import matplotlib.pyplot as plt\n",
    "import seaborn as sns\n",
    "from sklearn.datasets import load_iris\n",
    "import eda_utils\n",
    "import clustering_utils\n",
    "import visualization_utils"
   ]
  },
  {
   "cell_type": "markdown",
   "metadata": {},
   "source": [
    "**Load Dataset**"
   ]
  },
  {
   "cell_type": "code",
   "execution_count": 12,
   "metadata": {},
   "outputs": [
    {
     "name": "stdout",
     "output_type": "stream",
     "text": [
      "Loading dataset...\n"
     ]
    }
   ],
   "source": [
    "print(\"Loading dataset...\")\n",
    "columns_to_keep = [\n",
    "    \"JobID\",           # Unique identifier for each job\n",
    "    \"Account\",         # Account/project associated with job (helps identify similar projects)\n",
    "    \"Partition\",       # Hardware partition (GPU, shared_GPU, etc.) - indicates resource type\n",
    "    \"QOS\",             # Quality of service level (regular, preempt, debug) - indicates priority\n",
    "    \"NCPUS\",           # Number of CPUs requested - key resource metric\n",
    "    \"AllocNodes\",      # Number of nodes allocated - key resource metric\n",
    "    \"NodeList\",        # Specific nodes used - can help identify hardware preferences\n",
    "    \"ElapsedSecs\",     # Actual runtime - critical for job characterization\n",
    "    \"WaitTime\",        # Time spent in queue - may indicate job priority or resource demands\n",
    "    \"State\",           # Job completion status - important for filtering completed jobs\n",
    "    \"TimeLimit\",       # User's time estimate - indicates expected complexity\n",
    "    \"ConsumedEnergy\",  # Energy usage - good indicator of computational intensity\n",
    "    \"program\",         # Department/program - helps group similar jobs\n",
    "    \"sci_cat\",         # Scientific category - directly relates to job type\n",
    "    \"ZoneName\",        # Zone type (GPU, etc.) - hardware classification\n",
    "    \"ZoneSize\",        # Size of the zone - scale of resources\n",
    "    \"Start\",           # Time \n",
    "    \"End\",\n",
    "    \"Submit\"\n",
    "]\n",
    "\n",
    "df = pl.read_csv(\n",
    "    \"../../data/jobs-03_01_2025-03_14_2025.csv\",\n",
    "    has_header=True,\n",
    "    separator=\",\",\n",
    "    try_parse_dates=True,\n",
    "    columns=columns_to_keep,\n",
    "    schema_overrides={\n",
    "        \"Start\": pl.Datetime,\n",
    "        \"End\": pl.Datetime,\n",
    "        \"Submit\": pl.Datetime,\n",
    "        \"ElapsedSecs\": pl.Int64,\n",
    "        \"WaitTime\": pl.Int64,\n",
    "        \"TimeLimit\": pl.Int64,\n",
    "        \"ConsumedEnergy\": pl.Int64,\n",
    "        \"NCPUS\": pl.Int64,\n",
    "        \"AllocNodes\": pl.Int64,\n",
    "        \"ChargeFactor\": pl.Float64,\n",
    "        \"NerscHours\": pl.Float64,\n",
    "        \"RawHours\": pl.Float64,\n",
    "        \"MachineHours\": pl.Float64,\n",
    "    },\n",
    "    null_values=[\"\", \"None\", \"null\"] \n",
    ")"
   ]
  },
  {
   "cell_type": "markdown",
   "metadata": {},
   "source": [
    "**Exploratory Data Analysis**"
   ]
  },
  {
   "cell_type": "code",
   "execution_count": 15,
   "metadata": {},
   "outputs": [
    {
     "name": "stdout",
     "output_type": "stream",
     "text": [
      "Dataset shape: (115223, 19)\n",
      "\n",
      "First 5 rows:\n"
     ]
    },
    {
     "data": {
      "text/html": [
       "<div><style>\n",
       ".dataframe > thead > tr,\n",
       ".dataframe > tbody > tr {\n",
       "  text-align: right;\n",
       "  white-space: pre-wrap;\n",
       "}\n",
       "</style>\n",
       "<small>shape: (5, 19)</small><table border=\"1\" class=\"dataframe\"><thead><tr><th>JobID</th><th>Account</th><th>Partition</th><th>QOS</th><th>Start</th><th>End</th><th>NCPUS</th><th>AllocNodes</th><th>NodeList</th><th>ElapsedSecs</th><th>Submit</th><th>WaitTime</th><th>State</th><th>TimeLimit</th><th>ConsumedEnergy</th><th>program</th><th>sci_cat</th><th>ZoneName</th><th>ZoneSize</th></tr><tr><td>str</td><td>str</td><td>str</td><td>str</td><td>datetime[μs]</td><td>datetime[μs]</td><td>i64</td><td>i64</td><td>str</td><td>i64</td><td>datetime[μs]</td><td>i64</td><td>str</td><td>i64</td><td>i64</td><td>str</td><td>str</td><td>str</td><td>i64</td></tr></thead><tbody><tr><td>&quot;36353606&quot;</td><td>&quot;m4319_g&quot;</td><td>&quot;gpu_ss11&quot;</td><td>&quot;gpu_regular&quot;</td><td>2025-03-01 03:50:21</td><td>2025-03-01 07:59:59</td><td>128</td><td>1</td><td>&quot;nid003629&quot;</td><td>14978</td><td>2025-02-28 10:20:25</td><td>62996</td><td>&quot;COMPLETED&quot;</td><td>21600</td><td>15977100</td><td>&quot;ASCR&quot;</td><td>&quot;Data Analytics and Machine Lea…</td><td>&quot;gpu&quot;</td><td>1792</td></tr><tr><td>&quot;36353609&quot;</td><td>&quot;m4319_g&quot;</td><td>&quot;gpu_ss11&quot;</td><td>&quot;gpu_regular&quot;</td><td>2025-03-01 04:09:51</td><td>2025-03-01 07:59:59</td><td>128</td><td>1</td><td>&quot;nid003721&quot;</td><td>13808</td><td>2025-02-28 10:20:34</td><td>64157</td><td>&quot;COMPLETED&quot;</td><td>21600</td><td>15562022</td><td>&quot;ASCR&quot;</td><td>&quot;Data Analytics and Machine Lea…</td><td>&quot;gpu&quot;</td><td>1792</td></tr><tr><td>&quot;36353612&quot;</td><td>&quot;m4319_g&quot;</td><td>&quot;gpu_ss11&quot;</td><td>&quot;gpu_regular&quot;</td><td>2025-03-01 04:33:19</td><td>2025-03-01 07:59:59</td><td>128</td><td>1</td><td>&quot;nid004017&quot;</td><td>12400</td><td>2025-02-28 10:20:42</td><td>65557</td><td>&quot;COMPLETED&quot;</td><td>21600</td><td>15985030</td><td>&quot;ASCR&quot;</td><td>&quot;Data Analytics and Machine Lea…</td><td>&quot;gpu&quot;</td><td>1792</td></tr><tr><td>&quot;35945562&quot;</td><td>&quot;m542_g&quot;</td><td>&quot;gpu_ss11&quot;</td><td>&quot;gpu_regular&quot;</td><td>2025-03-01 00:35:21</td><td>2025-03-01 03:00:13</td><td>128</td><td>1</td><td>&quot;nid002948&quot;</td><td>8692</td><td>2025-02-17 19:09:15</td><td>969966</td><td>&quot;COMPLETED&quot;</td><td>28800</td><td>6142507</td><td>&quot;BES_MATSCI&quot;</td><td>&quot;Condensed Matter&quot;</td><td>&quot;gpu&quot;</td><td>1792</td></tr><tr><td>&quot;35872145_117&quot;</td><td>&quot;m2757_g&quot;</td><td>&quot;gpu_ss11&quot;</td><td>&quot;gpu_regular&quot;</td><td>2025-03-01 00:39:28</td><td>2025-03-01 00:54:20</td><td>256</td><td>2</td><td>&quot;nid[002352,002513]&quot;</td><td>892</td><td>2025-02-15 02:01:32</td><td>1204676</td><td>&quot;COMPLETED&quot;</td><td>14400</td><td>1355753</td><td>&quot;BES_MATSCI&quot;</td><td>&quot;Materials Science&quot;</td><td>&quot;gpu&quot;</td><td>1792</td></tr></tbody></table></div>"
      ],
      "text/plain": [
       "shape: (5, 19)\n",
       "┌────────────┬─────────┬───────────┬────────────┬───┬────────────┬───────────┬──────────┬──────────┐\n",
       "│ JobID      ┆ Account ┆ Partition ┆ QOS        ┆ … ┆ program    ┆ sci_cat   ┆ ZoneName ┆ ZoneSize │\n",
       "│ ---        ┆ ---     ┆ ---       ┆ ---        ┆   ┆ ---        ┆ ---       ┆ ---      ┆ ---      │\n",
       "│ str        ┆ str     ┆ str       ┆ str        ┆   ┆ str        ┆ str       ┆ str      ┆ i64      │\n",
       "╞════════════╪═════════╪═══════════╪════════════╪═══╪════════════╪═══════════╪══════════╪══════════╡\n",
       "│ 36353606   ┆ m4319_g ┆ gpu_ss11  ┆ gpu_regula ┆ … ┆ ASCR       ┆ Data      ┆ gpu      ┆ 1792     │\n",
       "│            ┆         ┆           ┆ r          ┆   ┆            ┆ Analytics ┆          ┆          │\n",
       "│            ┆         ┆           ┆            ┆   ┆            ┆ and       ┆          ┆          │\n",
       "│            ┆         ┆           ┆            ┆   ┆            ┆ Machine   ┆          ┆          │\n",
       "│            ┆         ┆           ┆            ┆   ┆            ┆ Lea…      ┆          ┆          │\n",
       "│ 36353609   ┆ m4319_g ┆ gpu_ss11  ┆ gpu_regula ┆ … ┆ ASCR       ┆ Data      ┆ gpu      ┆ 1792     │\n",
       "│            ┆         ┆           ┆ r          ┆   ┆            ┆ Analytics ┆          ┆          │\n",
       "│            ┆         ┆           ┆            ┆   ┆            ┆ and       ┆          ┆          │\n",
       "│            ┆         ┆           ┆            ┆   ┆            ┆ Machine   ┆          ┆          │\n",
       "│            ┆         ┆           ┆            ┆   ┆            ┆ Lea…      ┆          ┆          │\n",
       "│ 36353612   ┆ m4319_g ┆ gpu_ss11  ┆ gpu_regula ┆ … ┆ ASCR       ┆ Data      ┆ gpu      ┆ 1792     │\n",
       "│            ┆         ┆           ┆ r          ┆   ┆            ┆ Analytics ┆          ┆          │\n",
       "│            ┆         ┆           ┆            ┆   ┆            ┆ and       ┆          ┆          │\n",
       "│            ┆         ┆           ┆            ┆   ┆            ┆ Machine   ┆          ┆          │\n",
       "│            ┆         ┆           ┆            ┆   ┆            ┆ Lea…      ┆          ┆          │\n",
       "│ 35945562   ┆ m542_g  ┆ gpu_ss11  ┆ gpu_regula ┆ … ┆ BES_MATSCI ┆ Condensed ┆ gpu      ┆ 1792     │\n",
       "│            ┆         ┆           ┆ r          ┆   ┆            ┆ Matter    ┆          ┆          │\n",
       "│ 35872145_1 ┆ m2757_g ┆ gpu_ss11  ┆ gpu_regula ┆ … ┆ BES_MATSCI ┆ Materials ┆ gpu      ┆ 1792     │\n",
       "│ 17         ┆         ┆           ┆ r          ┆   ┆            ┆ Science   ┆          ┆          │\n",
       "└────────────┴─────────┴───────────┴────────────┴───┴────────────┴───────────┴──────────┴──────────┘"
      ]
     },
     "metadata": {},
     "output_type": "display_data"
    },
    {
     "name": "stdout",
     "output_type": "stream",
     "text": [
      "\n",
      "Data Statistics:\n"
     ]
    },
    {
     "data": {
      "text/html": [
       "<div><style>\n",
       ".dataframe > thead > tr,\n",
       ".dataframe > tbody > tr {\n",
       "  text-align: right;\n",
       "  white-space: pre-wrap;\n",
       "}\n",
       "</style>\n",
       "<small>shape: (9, 20)</small><table border=\"1\" class=\"dataframe\"><thead><tr><th>statistic</th><th>JobID</th><th>Account</th><th>Partition</th><th>QOS</th><th>Start</th><th>End</th><th>NCPUS</th><th>AllocNodes</th><th>NodeList</th><th>ElapsedSecs</th><th>Submit</th><th>WaitTime</th><th>State</th><th>TimeLimit</th><th>ConsumedEnergy</th><th>program</th><th>sci_cat</th><th>ZoneName</th><th>ZoneSize</th></tr><tr><td>str</td><td>str</td><td>str</td><td>str</td><td>str</td><td>str</td><td>str</td><td>f64</td><td>f64</td><td>str</td><td>f64</td><td>str</td><td>f64</td><td>str</td><td>f64</td><td>f64</td><td>str</td><td>str</td><td>str</td><td>f64</td></tr></thead><tbody><tr><td>&quot;count&quot;</td><td>&quot;115223&quot;</td><td>&quot;115223&quot;</td><td>&quot;114748&quot;</td><td>&quot;115223&quot;</td><td>&quot;115223&quot;</td><td>&quot;115223&quot;</td><td>114748.0</td><td>114748.0</td><td>&quot;115223&quot;</td><td>115223.0</td><td>&quot;114748&quot;</td><td>114748.0</td><td>&quot;114748&quot;</td><td>114748.0</td><td>107181.0</td><td>&quot;115131&quot;</td><td>&quot;115131&quot;</td><td>&quot;103533&quot;</td><td>103533.0</td></tr><tr><td>&quot;null_count&quot;</td><td>&quot;0&quot;</td><td>&quot;0&quot;</td><td>&quot;475&quot;</td><td>&quot;0&quot;</td><td>&quot;0&quot;</td><td>&quot;0&quot;</td><td>475.0</td><td>475.0</td><td>&quot;0&quot;</td><td>0.0</td><td>&quot;475&quot;</td><td>475.0</td><td>&quot;475&quot;</td><td>475.0</td><td>8042.0</td><td>&quot;92&quot;</td><td>&quot;92&quot;</td><td>&quot;11690&quot;</td><td>11690.0</td></tr><tr><td>&quot;mean&quot;</td><td>null</td><td>null</td><td>null</td><td>null</td><td>&quot;2025-03-07 04:55:39.841811&quot;</td><td>&quot;2025-03-07 06:33:41.719179&quot;</td><td>310.074041</td><td>2.636665</td><td>null</td><td>5882.31459</td><td>&quot;2025-03-06 03:53:52.681162&quot;</td><td>90502.671027</td><td>null</td><td>19571.704779</td><td>2.8134e7</td><td>null</td><td>null</td><td>null</td><td>1724.463736</td></tr><tr><td>&quot;std&quot;</td><td>null</td><td>null</td><td>null</td><td>null</td><td>null</td><td>null</td><td>2149.777727</td><td>16.770595</td><td>null</td><td>33289.319301</td><td>null</td><td>365077.091729</td><td>null</td><td>101590.967393</td><td>3.8507e8</td><td>null</td><td>null</td><td>null</td><td>337.288432</td></tr><tr><td>&quot;min&quot;</td><td>&quot;26227560&quot;</td><td>&quot;alice_g&quot;</td><td>&quot;cron&quot;</td><td>&quot;RESERVE&quot;</td><td>&quot;2025-03-01 00:00:03&quot;</td><td>&quot;2025-03-01 00:00:21&quot;</td><td>2.0</td><td>1.0</td><td>&quot;login01&quot;</td><td>0.0</td><td>&quot;2024-11-12 06:33:30&quot;</td><td>0.0</td><td>&quot;CANCELLED by 100018&quot;</td><td>60.0</td><td>0.0</td><td>&quot;ALCC_BASE&quot;</td><td>&quot;Accelerator Science&quot;</td><td>&quot;gpu&quot;</td><td>40.0</td></tr><tr><td>&quot;25%&quot;</td><td>null</td><td>null</td><td>null</td><td>null</td><td>&quot;2025-03-04 13:38:01&quot;</td><td>&quot;2025-03-04 14:38:10&quot;</td><td>32.0</td><td>1.0</td><td>null</td><td>65.0</td><td>&quot;2025-03-03 21:08:14&quot;</td><td>498.0</td><td>null</td><td>1740.0</td><td>39070.0</td><td>null</td><td>null</td><td>null</td><td>1792.0</td></tr><tr><td>&quot;50%&quot;</td><td>null</td><td>null</td><td>null</td><td>null</td><td>&quot;2025-03-06 12:26:14&quot;</td><td>&quot;2025-03-06 14:23:17&quot;</td><td>128.0</td><td>1.0</td><td>null</td><td>581.0</td><td>&quot;2025-03-05 23:15:57&quot;</td><td>14295.0</td><td>null</td><td>5400.0</td><td>501604.0</td><td>null</td><td>null</td><td>null</td><td>1792.0</td></tr><tr><td>&quot;75%&quot;</td><td>null</td><td>null</td><td>null</td><td>null</td><td>&quot;2025-03-10 07:09:37&quot;</td><td>&quot;2025-03-10 09:28:29&quot;</td><td>128.0</td><td>1.0</td><td>null</td><td>2419.0</td><td>&quot;2025-03-09 23:13:15&quot;</td><td>62378.0</td><td>null</td><td>14400.0</td><td>2.401031e6</td><td>null</td><td>null</td><td>null</td><td>1792.0</td></tr><tr><td>&quot;max&quot;</td><td>&quot;RESERVE:2025-03-13:1791:root:r…</td><td>&quot;xpress_g&quot;</td><td>&quot;urgent_gpu_ss11&quot;</td><td>&quot;workflow&quot;</td><td>&quot;2025-03-13 23:59:38&quot;</td><td>&quot;2025-04-18 01:40:44&quot;</td><td>145920.0</td><td>1140.0</td><td>&quot;nid[200508-200509]&quot;</td><td>3.436844e6</td><td>&quot;2025-03-13 23:59:37&quot;</td><td>1.045599e7</td><td>&quot;TIMEOUT&quot;</td><td>7.776e6</td><td>3.9404e10</td><td>&quot;Vendor&quot;</td><td>&quot;Visualization&quot;</td><td>&quot;other&quot;</td><td>1792.0</td></tr></tbody></table></div>"
      ],
      "text/plain": [
       "shape: (9, 20)\n",
       "┌────────────┬───────────┬──────────┬───────────┬───┬───────────┬───────────┬──────────┬───────────┐\n",
       "│ statistic  ┆ JobID     ┆ Account  ┆ Partition ┆ … ┆ program   ┆ sci_cat   ┆ ZoneName ┆ ZoneSize  │\n",
       "│ ---        ┆ ---       ┆ ---      ┆ ---       ┆   ┆ ---       ┆ ---       ┆ ---      ┆ ---       │\n",
       "│ str        ┆ str       ┆ str      ┆ str       ┆   ┆ str       ┆ str       ┆ str      ┆ f64       │\n",
       "╞════════════╪═══════════╪══════════╪═══════════╪═══╪═══════════╪═══════════╪══════════╪═══════════╡\n",
       "│ count      ┆ 115223    ┆ 115223   ┆ 114748    ┆ … ┆ 115131    ┆ 115131    ┆ 103533   ┆ 103533.0  │\n",
       "│ null_count ┆ 0         ┆ 0        ┆ 475       ┆ … ┆ 92        ┆ 92        ┆ 11690    ┆ 11690.0   │\n",
       "│ mean       ┆ null      ┆ null     ┆ null      ┆ … ┆ null      ┆ null      ┆ null     ┆ 1724.4637 │\n",
       "│            ┆           ┆          ┆           ┆   ┆           ┆           ┆          ┆ 36        │\n",
       "│ std        ┆ null      ┆ null     ┆ null      ┆ … ┆ null      ┆ null      ┆ null     ┆ 337.28843 │\n",
       "│            ┆           ┆          ┆           ┆   ┆           ┆           ┆          ┆ 2         │\n",
       "│ min        ┆ 26227560  ┆ alice_g  ┆ cron      ┆ … ┆ ALCC_BASE ┆ Accelerat ┆ gpu      ┆ 40.0      │\n",
       "│            ┆           ┆          ┆           ┆   ┆           ┆ or        ┆          ┆           │\n",
       "│            ┆           ┆          ┆           ┆   ┆           ┆ Science   ┆          ┆           │\n",
       "│ 25%        ┆ null      ┆ null     ┆ null      ┆ … ┆ null      ┆ null      ┆ null     ┆ 1792.0    │\n",
       "│ 50%        ┆ null      ┆ null     ┆ null      ┆ … ┆ null      ┆ null      ┆ null     ┆ 1792.0    │\n",
       "│ 75%        ┆ null      ┆ null     ┆ null      ┆ … ┆ null      ┆ null      ┆ null     ┆ 1792.0    │\n",
       "│ max        ┆ RESERVE:2 ┆ xpress_g ┆ urgent_gp ┆ … ┆ Vendor    ┆ Visualiza ┆ other    ┆ 1792.0    │\n",
       "│            ┆ 025-03-13 ┆          ┆ u_ss11    ┆   ┆           ┆ tion      ┆          ┆           │\n",
       "│            ┆ :1791:roo ┆          ┆           ┆   ┆           ┆           ┆          ┆           │\n",
       "│            ┆ t:r…      ┆          ┆           ┆   ┆           ┆           ┆          ┆           │\n",
       "└────────────┴───────────┴──────────┴───────────┴───┴───────────┴───────────┴──────────┴───────────┘"
      ]
     },
     "metadata": {},
     "output_type": "display_data"
    },
    {
     "name": "stdout",
     "output_type": "stream",
     "text": [
      "\n",
      "Account Distribution:\n"
     ]
    },
    {
     "data": {
      "text/html": [
       "<div><style>\n",
       ".dataframe > thead > tr,\n",
       ".dataframe > tbody > tr {\n",
       "  text-align: right;\n",
       "  white-space: pre-wrap;\n",
       "}\n",
       "</style>\n",
       "<small>shape: (483, 2)</small><table border=\"1\" class=\"dataframe\"><thead><tr><th>Account</th><th>count</th></tr><tr><td>str</td><td>u32</td></tr></thead><tbody><tr><td>&quot;m4632_g&quot;</td><td>13</td></tr><tr><td>&quot;m3706_g&quot;</td><td>18</td></tr><tr><td>&quot;m4129_g&quot;</td><td>262</td></tr><tr><td>&quot;m3210_g&quot;</td><td>84</td></tr><tr><td>&quot;m4302_g&quot;</td><td>5</td></tr><tr><td>&hellip;</td><td>&hellip;</td></tr><tr><td>&quot;m4904_g&quot;</td><td>1</td></tr><tr><td>&quot;mp363_g&quot;</td><td>1</td></tr><tr><td>&quot;nguest_g&quot;</td><td>4</td></tr><tr><td>&quot;desi_g&quot;</td><td>11406</td></tr><tr><td>&quot;m4727_g&quot;</td><td>19</td></tr></tbody></table></div>"
      ],
      "text/plain": [
       "shape: (483, 2)\n",
       "┌──────────┬───────┐\n",
       "│ Account  ┆ count │\n",
       "│ ---      ┆ ---   │\n",
       "│ str      ┆ u32   │\n",
       "╞══════════╪═══════╡\n",
       "│ m4632_g  ┆ 13    │\n",
       "│ m3706_g  ┆ 18    │\n",
       "│ m4129_g  ┆ 262   │\n",
       "│ m3210_g  ┆ 84    │\n",
       "│ m4302_g  ┆ 5     │\n",
       "│ …        ┆ …     │\n",
       "│ m4904_g  ┆ 1     │\n",
       "│ mp363_g  ┆ 1     │\n",
       "│ nguest_g ┆ 4     │\n",
       "│ desi_g   ┆ 11406 │\n",
       "│ m4727_g  ┆ 19    │\n",
       "└──────────┴───────┘"
      ]
     },
     "metadata": {},
     "output_type": "display_data"
    }
   ],
   "source": [
    "eda_utils.describe_dataset(df, target_col='Account')"
   ]
  },
  {
   "cell_type": "markdown",
   "metadata": {},
   "source": [
    "**Data Visualization**"
   ]
  },
  {
   "cell_type": "code",
   "execution_count": 16,
   "metadata": {},
   "outputs": [],
   "source": [
    "# visualization_utils.plot_pairplot(df, hue='Account', title='Pairplot of Iris Dataset Features');"
   ]
  },
  {
   "cell_type": "markdown",
   "metadata": {},
   "source": [
    "**Data Preprocessing**"
   ]
  },
  {
   "cell_type": "code",
   "execution_count": 17,
   "metadata": {},
   "outputs": [
    {
     "ename": "ValueError",
     "evalue": "could not convert string to float: 'RESERVE:2025-03-01:1734:ndk:e3sm:perlmutter gpu'",
     "output_type": "error",
     "traceback": [
      "\u001b[31m---------------------------------------------------------------------------\u001b[39m",
      "\u001b[31mValueError\u001b[39m                                Traceback (most recent call last)",
      "\u001b[36mCell\u001b[39m\u001b[36m \u001b[39m\u001b[32mIn[17]\u001b[39m\u001b[32m, line 2\u001b[39m\n\u001b[32m      1\u001b[39m \u001b[38;5;66;03m# Standardize the features (excluding the target column)\u001b[39;00m\n\u001b[32m----> \u001b[39m\u001b[32m2\u001b[39m scaled_df, scaler = \u001b[43meda_utils\u001b[49m\u001b[43m.\u001b[49m\u001b[43mstandardize_features\u001b[49m\u001b[43m(\u001b[49m\u001b[43mdf\u001b[49m\u001b[43m,\u001b[49m\u001b[43m \u001b[49m\u001b[43mexclude_cols\u001b[49m\u001b[43m=\u001b[49m\u001b[43m[\u001b[49m\u001b[33;43m'\u001b[39;49m\u001b[33;43mspecies\u001b[39;49m\u001b[33;43m'\u001b[39;49m\u001b[43m]\u001b[49m\u001b[43m)\u001b[49m\n\u001b[32m      3\u001b[39m \u001b[38;5;28mprint\u001b[39m(\u001b[33m\"\u001b[39m\u001b[33mStandardized Features:\u001b[39m\u001b[33m\"\u001b[39m)\n\u001b[32m      4\u001b[39m display(scaled_df.head())\n",
      "\u001b[36mFile \u001b[39m\u001b[32m~/projet/tm/perlmutter_workload_analysis/src/workload_analysis/eda_utils.py:79\u001b[39m, in \u001b[36mstandardize_features\u001b[39m\u001b[34m(df, exclude_cols)\u001b[39m\n\u001b[32m     77\u001b[39m \u001b[38;5;66;03m# Standardize\u001b[39;00m\n\u001b[32m     78\u001b[39m scaler = StandardScaler()\n\u001b[32m---> \u001b[39m\u001b[32m79\u001b[39m X_scaled = \u001b[43mscaler\u001b[49m\u001b[43m.\u001b[49m\u001b[43mfit_transform\u001b[49m\u001b[43m(\u001b[49m\u001b[43mX\u001b[49m\u001b[43m)\u001b[49m\n\u001b[32m     81\u001b[39m \u001b[38;5;66;03m# Convert back to polars DataFrame\u001b[39;00m\n\u001b[32m     82\u001b[39m scaled_df = pl.DataFrame(\n\u001b[32m     83\u001b[39m     X_scaled,\n\u001b[32m     84\u001b[39m     schema=[\u001b[33mf\u001b[39m\u001b[33m\"\u001b[39m\u001b[38;5;132;01m{\u001b[39;00mcol\u001b[38;5;132;01m}\u001b[39;00m\u001b[33m_scaled\u001b[39m\u001b[33m\"\u001b[39m \u001b[38;5;28;01mfor\u001b[39;00m col \u001b[38;5;129;01min\u001b[39;00m numeric_cols]\n\u001b[32m     85\u001b[39m )\n",
      "\u001b[36mFile \u001b[39m\u001b[32m~/projet/tm/perlmutter_workload_analysis/.venv/lib/python3.13/site-packages/sklearn/utils/_set_output.py:319\u001b[39m, in \u001b[36m_wrap_method_output.<locals>.wrapped\u001b[39m\u001b[34m(self, X, *args, **kwargs)\u001b[39m\n\u001b[32m    317\u001b[39m \u001b[38;5;129m@wraps\u001b[39m(f)\n\u001b[32m    318\u001b[39m \u001b[38;5;28;01mdef\u001b[39;00m\u001b[38;5;250m \u001b[39m\u001b[34mwrapped\u001b[39m(\u001b[38;5;28mself\u001b[39m, X, *args, **kwargs):\n\u001b[32m--> \u001b[39m\u001b[32m319\u001b[39m     data_to_wrap = \u001b[43mf\u001b[49m\u001b[43m(\u001b[49m\u001b[38;5;28;43mself\u001b[39;49m\u001b[43m,\u001b[49m\u001b[43m \u001b[49m\u001b[43mX\u001b[49m\u001b[43m,\u001b[49m\u001b[43m \u001b[49m\u001b[43m*\u001b[49m\u001b[43margs\u001b[49m\u001b[43m,\u001b[49m\u001b[43m \u001b[49m\u001b[43m*\u001b[49m\u001b[43m*\u001b[49m\u001b[43mkwargs\u001b[49m\u001b[43m)\u001b[49m\n\u001b[32m    320\u001b[39m     \u001b[38;5;28;01mif\u001b[39;00m \u001b[38;5;28misinstance\u001b[39m(data_to_wrap, \u001b[38;5;28mtuple\u001b[39m):\n\u001b[32m    321\u001b[39m         \u001b[38;5;66;03m# only wrap the first output for cross decomposition\u001b[39;00m\n\u001b[32m    322\u001b[39m         return_tuple = (\n\u001b[32m    323\u001b[39m             _wrap_data_with_container(method, data_to_wrap[\u001b[32m0\u001b[39m], X, \u001b[38;5;28mself\u001b[39m),\n\u001b[32m    324\u001b[39m             *data_to_wrap[\u001b[32m1\u001b[39m:],\n\u001b[32m    325\u001b[39m         )\n",
      "\u001b[36mFile \u001b[39m\u001b[32m~/projet/tm/perlmutter_workload_analysis/.venv/lib/python3.13/site-packages/sklearn/base.py:918\u001b[39m, in \u001b[36mTransformerMixin.fit_transform\u001b[39m\u001b[34m(self, X, y, **fit_params)\u001b[39m\n\u001b[32m    903\u001b[39m         warnings.warn(\n\u001b[32m    904\u001b[39m             (\n\u001b[32m    905\u001b[39m                 \u001b[33mf\u001b[39m\u001b[33m\"\u001b[39m\u001b[33mThis object (\u001b[39m\u001b[38;5;132;01m{\u001b[39;00m\u001b[38;5;28mself\u001b[39m.\u001b[34m__class__\u001b[39m.\u001b[34m__name__\u001b[39m\u001b[38;5;132;01m}\u001b[39;00m\u001b[33m) has a `transform`\u001b[39m\u001b[33m\"\u001b[39m\n\u001b[32m   (...)\u001b[39m\u001b[32m    913\u001b[39m             \u001b[38;5;167;01mUserWarning\u001b[39;00m,\n\u001b[32m    914\u001b[39m         )\n\u001b[32m    916\u001b[39m \u001b[38;5;28;01mif\u001b[39;00m y \u001b[38;5;129;01mis\u001b[39;00m \u001b[38;5;28;01mNone\u001b[39;00m:\n\u001b[32m    917\u001b[39m     \u001b[38;5;66;03m# fit method of arity 1 (unsupervised transformation)\u001b[39;00m\n\u001b[32m--> \u001b[39m\u001b[32m918\u001b[39m     \u001b[38;5;28;01mreturn\u001b[39;00m \u001b[38;5;28;43mself\u001b[39;49m\u001b[43m.\u001b[49m\u001b[43mfit\u001b[49m\u001b[43m(\u001b[49m\u001b[43mX\u001b[49m\u001b[43m,\u001b[49m\u001b[43m \u001b[49m\u001b[43m*\u001b[49m\u001b[43m*\u001b[49m\u001b[43mfit_params\u001b[49m\u001b[43m)\u001b[49m.transform(X)\n\u001b[32m    919\u001b[39m \u001b[38;5;28;01melse\u001b[39;00m:\n\u001b[32m    920\u001b[39m     \u001b[38;5;66;03m# fit method of arity 2 (supervised transformation)\u001b[39;00m\n\u001b[32m    921\u001b[39m     \u001b[38;5;28;01mreturn\u001b[39;00m \u001b[38;5;28mself\u001b[39m.fit(X, y, **fit_params).transform(X)\n",
      "\u001b[36mFile \u001b[39m\u001b[32m~/projet/tm/perlmutter_workload_analysis/.venv/lib/python3.13/site-packages/sklearn/preprocessing/_data.py:894\u001b[39m, in \u001b[36mStandardScaler.fit\u001b[39m\u001b[34m(self, X, y, sample_weight)\u001b[39m\n\u001b[32m    892\u001b[39m \u001b[38;5;66;03m# Reset internal state before fitting\u001b[39;00m\n\u001b[32m    893\u001b[39m \u001b[38;5;28mself\u001b[39m._reset()\n\u001b[32m--> \u001b[39m\u001b[32m894\u001b[39m \u001b[38;5;28;01mreturn\u001b[39;00m \u001b[38;5;28;43mself\u001b[39;49m\u001b[43m.\u001b[49m\u001b[43mpartial_fit\u001b[49m\u001b[43m(\u001b[49m\u001b[43mX\u001b[49m\u001b[43m,\u001b[49m\u001b[43m \u001b[49m\u001b[43my\u001b[49m\u001b[43m,\u001b[49m\u001b[43m \u001b[49m\u001b[43msample_weight\u001b[49m\u001b[43m)\u001b[49m\n",
      "\u001b[36mFile \u001b[39m\u001b[32m~/projet/tm/perlmutter_workload_analysis/.venv/lib/python3.13/site-packages/sklearn/base.py:1389\u001b[39m, in \u001b[36m_fit_context.<locals>.decorator.<locals>.wrapper\u001b[39m\u001b[34m(estimator, *args, **kwargs)\u001b[39m\n\u001b[32m   1382\u001b[39m     estimator._validate_params()\n\u001b[32m   1384\u001b[39m \u001b[38;5;28;01mwith\u001b[39;00m config_context(\n\u001b[32m   1385\u001b[39m     skip_parameter_validation=(\n\u001b[32m   1386\u001b[39m         prefer_skip_nested_validation \u001b[38;5;129;01mor\u001b[39;00m global_skip_validation\n\u001b[32m   1387\u001b[39m     )\n\u001b[32m   1388\u001b[39m ):\n\u001b[32m-> \u001b[39m\u001b[32m1389\u001b[39m     \u001b[38;5;28;01mreturn\u001b[39;00m \u001b[43mfit_method\u001b[49m\u001b[43m(\u001b[49m\u001b[43mestimator\u001b[49m\u001b[43m,\u001b[49m\u001b[43m \u001b[49m\u001b[43m*\u001b[49m\u001b[43margs\u001b[49m\u001b[43m,\u001b[49m\u001b[43m \u001b[49m\u001b[43m*\u001b[49m\u001b[43m*\u001b[49m\u001b[43mkwargs\u001b[49m\u001b[43m)\u001b[49m\n",
      "\u001b[36mFile \u001b[39m\u001b[32m~/projet/tm/perlmutter_workload_analysis/.venv/lib/python3.13/site-packages/sklearn/preprocessing/_data.py:930\u001b[39m, in \u001b[36mStandardScaler.partial_fit\u001b[39m\u001b[34m(self, X, y, sample_weight)\u001b[39m\n\u001b[32m    898\u001b[39m \u001b[38;5;250m\u001b[39m\u001b[33;03m\"\"\"Online computation of mean and std on X for later scaling.\u001b[39;00m\n\u001b[32m    899\u001b[39m \n\u001b[32m    900\u001b[39m \u001b[33;03mAll of X is processed as a single batch. This is intended for cases\u001b[39;00m\n\u001b[32m   (...)\u001b[39m\u001b[32m    927\u001b[39m \u001b[33;03m    Fitted scaler.\u001b[39;00m\n\u001b[32m    928\u001b[39m \u001b[33;03m\"\"\"\u001b[39;00m\n\u001b[32m    929\u001b[39m first_call = \u001b[38;5;129;01mnot\u001b[39;00m \u001b[38;5;28mhasattr\u001b[39m(\u001b[38;5;28mself\u001b[39m, \u001b[33m\"\u001b[39m\u001b[33mn_samples_seen_\u001b[39m\u001b[33m\"\u001b[39m)\n\u001b[32m--> \u001b[39m\u001b[32m930\u001b[39m X = \u001b[43mvalidate_data\u001b[49m\u001b[43m(\u001b[49m\n\u001b[32m    931\u001b[39m \u001b[43m    \u001b[49m\u001b[38;5;28;43mself\u001b[39;49m\u001b[43m,\u001b[49m\n\u001b[32m    932\u001b[39m \u001b[43m    \u001b[49m\u001b[43mX\u001b[49m\u001b[43m,\u001b[49m\n\u001b[32m    933\u001b[39m \u001b[43m    \u001b[49m\u001b[43maccept_sparse\u001b[49m\u001b[43m=\u001b[49m\u001b[43m(\u001b[49m\u001b[33;43m\"\u001b[39;49m\u001b[33;43mcsr\u001b[39;49m\u001b[33;43m\"\u001b[39;49m\u001b[43m,\u001b[49m\u001b[43m \u001b[49m\u001b[33;43m\"\u001b[39;49m\u001b[33;43mcsc\u001b[39;49m\u001b[33;43m\"\u001b[39;49m\u001b[43m)\u001b[49m\u001b[43m,\u001b[49m\n\u001b[32m    934\u001b[39m \u001b[43m    \u001b[49m\u001b[43mdtype\u001b[49m\u001b[43m=\u001b[49m\u001b[43mFLOAT_DTYPES\u001b[49m\u001b[43m,\u001b[49m\n\u001b[32m    935\u001b[39m \u001b[43m    \u001b[49m\u001b[43mensure_all_finite\u001b[49m\u001b[43m=\u001b[49m\u001b[33;43m\"\u001b[39;49m\u001b[33;43mallow-nan\u001b[39;49m\u001b[33;43m\"\u001b[39;49m\u001b[43m,\u001b[49m\n\u001b[32m    936\u001b[39m \u001b[43m    \u001b[49m\u001b[43mreset\u001b[49m\u001b[43m=\u001b[49m\u001b[43mfirst_call\u001b[49m\u001b[43m,\u001b[49m\n\u001b[32m    937\u001b[39m \u001b[43m\u001b[49m\u001b[43m)\u001b[49m\n\u001b[32m    938\u001b[39m n_features = X.shape[\u001b[32m1\u001b[39m]\n\u001b[32m    940\u001b[39m \u001b[38;5;28;01mif\u001b[39;00m sample_weight \u001b[38;5;129;01mis\u001b[39;00m \u001b[38;5;129;01mnot\u001b[39;00m \u001b[38;5;28;01mNone\u001b[39;00m:\n",
      "\u001b[36mFile \u001b[39m\u001b[32m~/projet/tm/perlmutter_workload_analysis/.venv/lib/python3.13/site-packages/sklearn/utils/validation.py:2944\u001b[39m, in \u001b[36mvalidate_data\u001b[39m\u001b[34m(_estimator, X, y, reset, validate_separately, skip_check_array, **check_params)\u001b[39m\n\u001b[32m   2942\u001b[39m         out = X, y\n\u001b[32m   2943\u001b[39m \u001b[38;5;28;01melif\u001b[39;00m \u001b[38;5;129;01mnot\u001b[39;00m no_val_X \u001b[38;5;129;01mand\u001b[39;00m no_val_y:\n\u001b[32m-> \u001b[39m\u001b[32m2944\u001b[39m     out = \u001b[43mcheck_array\u001b[49m\u001b[43m(\u001b[49m\u001b[43mX\u001b[49m\u001b[43m,\u001b[49m\u001b[43m \u001b[49m\u001b[43minput_name\u001b[49m\u001b[43m=\u001b[49m\u001b[33;43m\"\u001b[39;49m\u001b[33;43mX\u001b[39;49m\u001b[33;43m\"\u001b[39;49m\u001b[43m,\u001b[49m\u001b[43m \u001b[49m\u001b[43m*\u001b[49m\u001b[43m*\u001b[49m\u001b[43mcheck_params\u001b[49m\u001b[43m)\u001b[49m\n\u001b[32m   2945\u001b[39m \u001b[38;5;28;01melif\u001b[39;00m no_val_X \u001b[38;5;129;01mand\u001b[39;00m \u001b[38;5;129;01mnot\u001b[39;00m no_val_y:\n\u001b[32m   2946\u001b[39m     out = _check_y(y, **check_params)\n",
      "\u001b[36mFile \u001b[39m\u001b[32m~/projet/tm/perlmutter_workload_analysis/.venv/lib/python3.13/site-packages/sklearn/utils/validation.py:1055\u001b[39m, in \u001b[36mcheck_array\u001b[39m\u001b[34m(array, accept_sparse, accept_large_sparse, dtype, order, copy, force_writeable, force_all_finite, ensure_all_finite, ensure_non_negative, ensure_2d, allow_nd, ensure_min_samples, ensure_min_features, estimator, input_name)\u001b[39m\n\u001b[32m   1053\u001b[39m         array = xp.astype(array, dtype, copy=\u001b[38;5;28;01mFalse\u001b[39;00m)\n\u001b[32m   1054\u001b[39m     \u001b[38;5;28;01melse\u001b[39;00m:\n\u001b[32m-> \u001b[39m\u001b[32m1055\u001b[39m         array = \u001b[43m_asarray_with_order\u001b[49m\u001b[43m(\u001b[49m\u001b[43marray\u001b[49m\u001b[43m,\u001b[49m\u001b[43m \u001b[49m\u001b[43morder\u001b[49m\u001b[43m=\u001b[49m\u001b[43morder\u001b[49m\u001b[43m,\u001b[49m\u001b[43m \u001b[49m\u001b[43mdtype\u001b[49m\u001b[43m=\u001b[49m\u001b[43mdtype\u001b[49m\u001b[43m,\u001b[49m\u001b[43m \u001b[49m\u001b[43mxp\u001b[49m\u001b[43m=\u001b[49m\u001b[43mxp\u001b[49m\u001b[43m)\u001b[49m\n\u001b[32m   1056\u001b[39m \u001b[38;5;28;01mexcept\u001b[39;00m ComplexWarning \u001b[38;5;28;01mas\u001b[39;00m complex_warning:\n\u001b[32m   1057\u001b[39m     \u001b[38;5;28;01mraise\u001b[39;00m \u001b[38;5;167;01mValueError\u001b[39;00m(\n\u001b[32m   1058\u001b[39m         \u001b[33m\"\u001b[39m\u001b[33mComplex data not supported\u001b[39m\u001b[38;5;130;01m\\n\u001b[39;00m\u001b[38;5;132;01m{}\u001b[39;00m\u001b[38;5;130;01m\\n\u001b[39;00m\u001b[33m\"\u001b[39m.format(array)\n\u001b[32m   1059\u001b[39m     ) \u001b[38;5;28;01mfrom\u001b[39;00m\u001b[38;5;250m \u001b[39m\u001b[34;01mcomplex_warning\u001b[39;00m\n",
      "\u001b[36mFile \u001b[39m\u001b[32m~/projet/tm/perlmutter_workload_analysis/.venv/lib/python3.13/site-packages/sklearn/utils/_array_api.py:839\u001b[39m, in \u001b[36m_asarray_with_order\u001b[39m\u001b[34m(array, dtype, order, copy, xp, device)\u001b[39m\n\u001b[32m    837\u001b[39m     array = numpy.array(array, order=order, dtype=dtype)\n\u001b[32m    838\u001b[39m \u001b[38;5;28;01melse\u001b[39;00m:\n\u001b[32m--> \u001b[39m\u001b[32m839\u001b[39m     array = \u001b[43mnumpy\u001b[49m\u001b[43m.\u001b[49m\u001b[43masarray\u001b[49m\u001b[43m(\u001b[49m\u001b[43marray\u001b[49m\u001b[43m,\u001b[49m\u001b[43m \u001b[49m\u001b[43morder\u001b[49m\u001b[43m=\u001b[49m\u001b[43morder\u001b[49m\u001b[43m,\u001b[49m\u001b[43m \u001b[49m\u001b[43mdtype\u001b[49m\u001b[43m=\u001b[49m\u001b[43mdtype\u001b[49m\u001b[43m)\u001b[49m\n\u001b[32m    841\u001b[39m \u001b[38;5;66;03m# At this point array is a NumPy ndarray. We convert it to an array\u001b[39;00m\n\u001b[32m    842\u001b[39m \u001b[38;5;66;03m# container that is consistent with the input's namespace.\u001b[39;00m\n\u001b[32m    843\u001b[39m \u001b[38;5;28;01mreturn\u001b[39;00m xp.asarray(array)\n",
      "\u001b[31mValueError\u001b[39m: could not convert string to float: 'RESERVE:2025-03-01:1734:ndk:e3sm:perlmutter gpu'"
     ]
    }
   ],
   "source": [
    "# Standardize the features (excluding the target column)\n",
    "scaled_df, scaler = eda_utils.standardize_features(df, exclude_cols=['species'])\n",
    "print(\"Standardized Features:\")\n",
    "display(scaled_df.head())\n",
    "\n",
    "# Get standardized data for clustering\n",
    "X = scaled_df.to_numpy()\n"
   ]
  },
  {
   "cell_type": "markdown",
   "metadata": {},
   "source": [
    "**Elbow Method**\n"
   ]
  },
  {
   "cell_type": "code",
   "execution_count": null,
   "metadata": {},
   "outputs": [],
   "source": [
    "k_range = range(1, 11)\n",
    "inertias, times = clustering_utils.find_optimal_k(X, k_range=k_range, verbose=True)"
   ]
  },
  {
   "cell_type": "code",
   "execution_count": 12,
   "metadata": {},
   "outputs": [
    {
     "data": {
      "image/png": "[encoded data removed]",
      "text/plain": [
       "<Figure size 1000x600 with 1 Axes>"
      ]
     },
     "metadata": {},
     "output_type": "display_data"
    }
   ],
   "source": [
    "visualization_utils.plot_elbow_method(k_range, inertias, annotate=True);"
   ]
  },
  {
   "cell_type": "markdown",
   "metadata": {},
   "source": [
    "**Clustering with Optimal K**"
   ]
  },
  {
   "cell_type": "code",
   "execution_count": 13,
   "metadata": {},
   "outputs": [
    {
     "name": "stdout",
     "output_type": "stream",
     "text": [
      "Clustering Results:\n"
     ]
    },
    {
     "data": {
      "text/html": [
       "<div><style>\n",
       ".dataframe > thead > tr,\n",
       ".dataframe > tbody > tr {\n",
       "  text-align: right;\n",
       "  white-space: pre-wrap;\n",
       "}\n",
       "</style>\n",
       "<small>shape: (5, 6)</small><table border=\"1\" class=\"dataframe\"><thead><tr><th>sepal_length</th><th>sepal_width</th><th>petal_length</th><th>petal_width</th><th>species</th><th>cluster</th></tr><tr><td>f64</td><td>f64</td><td>f64</td><td>f64</td><td>i64</td><td>i32</td></tr></thead><tbody><tr><td>5.1</td><td>3.5</td><td>1.4</td><td>0.2</td><td>0</td><td>1</td></tr><tr><td>4.9</td><td>3.0</td><td>1.4</td><td>0.2</td><td>0</td><td>1</td></tr><tr><td>4.7</td><td>3.2</td><td>1.3</td><td>0.2</td><td>0</td><td>1</td></tr><tr><td>4.6</td><td>3.1</td><td>1.5</td><td>0.2</td><td>0</td><td>1</td></tr><tr><td>5.0</td><td>3.6</td><td>1.4</td><td>0.2</td><td>0</td><td>1</td></tr></tbody></table></div>"
      ],
      "text/plain": [
       "shape: (5, 6)\n",
       "┌──────────────┬─────────────┬──────────────┬─────────────┬─────────┬─────────┐\n",
       "│ sepal_length ┆ sepal_width ┆ petal_length ┆ petal_width ┆ species ┆ cluster │\n",
       "│ ---          ┆ ---         ┆ ---          ┆ ---         ┆ ---     ┆ ---     │\n",
       "│ f64          ┆ f64         ┆ f64          ┆ f64         ┆ i64     ┆ i32     │\n",
       "╞══════════════╪═════════════╪══════════════╪═════════════╪═════════╪═════════╡\n",
       "│ 5.1          ┆ 3.5         ┆ 1.4          ┆ 0.2         ┆ 0       ┆ 1       │\n",
       "│ 4.9          ┆ 3.0         ┆ 1.4          ┆ 0.2         ┆ 0       ┆ 1       │\n",
       "│ 4.7          ┆ 3.2         ┆ 1.3          ┆ 0.2         ┆ 0       ┆ 1       │\n",
       "│ 4.6          ┆ 3.1         ┆ 1.5          ┆ 0.2         ┆ 0       ┆ 1       │\n",
       "│ 5.0          ┆ 3.6         ┆ 1.4          ┆ 0.2         ┆ 0       ┆ 1       │\n",
       "└──────────────┴─────────────┴──────────────┴─────────────┴─────────┴─────────┘"
      ]
     },
     "metadata": {},
     "output_type": "display_data"
    },
    {
     "name": "stdout",
     "output_type": "stream",
     "text": [
      "\n",
      "Cluster vs. Species Distribution:\n"
     ]
    },
    {
     "data": {
      "text/html": [
       "<div><style>\n",
       ".dataframe > thead > tr,\n",
       ".dataframe > tbody > tr {\n",
       "  text-align: right;\n",
       "  white-space: pre-wrap;\n",
       "}\n",
       "</style>\n",
       "<small>shape: (5, 3)</small><table border=\"1\" class=\"dataframe\"><thead><tr><th>species</th><th>cluster</th><th>count</th></tr><tr><td>i64</td><td>i32</td><td>u32</td></tr></thead><tbody><tr><td>1</td><td>2</td><td>11</td></tr><tr><td>2</td><td>0</td><td>14</td></tr><tr><td>1</td><td>0</td><td>39</td></tr><tr><td>0</td><td>1</td><td>50</td></tr><tr><td>2</td><td>2</td><td>36</td></tr></tbody></table></div>"
      ],
      "text/plain": [
       "shape: (5, 3)\n",
       "┌─────────┬─────────┬───────┐\n",
       "│ species ┆ cluster ┆ count │\n",
       "│ ---     ┆ ---     ┆ ---   │\n",
       "│ i64     ┆ i32     ┆ u32   │\n",
       "╞═════════╪═════════╪═══════╡\n",
       "│ 1       ┆ 2       ┆ 11    │\n",
       "│ 2       ┆ 0       ┆ 14    │\n",
       "│ 1       ┆ 0       ┆ 39    │\n",
       "│ 0       ┆ 1       ┆ 50    │\n",
       "│ 2       ┆ 2       ┆ 36    │\n",
       "└─────────┴─────────┴───────┘"
      ]
     },
     "metadata": {},
     "output_type": "display_data"
    }
   ],
   "source": [
    "# Apply KMeans clustering with the optimal number of clusters\n",
    "optimal_k = 3  # Based on the elbow method\n",
    "labels, centers, n_clusters = clustering_utils.apply_clustering(\n",
    "    X, algorithm=\"kmeans\", params={\"n_clusters\": optimal_k}\n",
    ")\n",
    "\n",
    "# Add cluster labels to the original dataframe\n",
    "result_df = df.with_columns(pl.Series(name=\"cluster\", values=labels))\n",
    "\n",
    "# Display results\n",
    "print(\"Clustering Results:\")\n",
    "display(result_df.head())\n",
    "\n",
    "# Compare clusters with original species\n",
    "print(\"\\nCluster vs. Species Distribution:\")\n",
    "display(result_df.group_by(['species', 'cluster']).agg(pl.len().alias('count')))\n"
   ]
  },
  {
   "cell_type": "code",
   "execution_count": null,
   "metadata": {},
   "outputs": [],
   "source": [
    "X_pca = visualization_utils.reduce_dimensions(X, method=\"pca\", n_components=2)\n",
    "centers_pca = visualization_utils.reduce_dimensions(centers, method=\"pca\", n_components=2)"
   ]
  },
  {
   "cell_type": "code",
   "execution_count": 16,
   "metadata": {},
   "outputs": [
    {
     "data": {
      "image/png": "[encoded data removed]",
      "text/plain": [
       "<Figure size 1200x800 with 1 Axes>"
      ]
     },
     "metadata": {},
     "output_type": "display_data"
    }
   ],
   "source": [
    "visualization_utils.plot_clusters_mpl(\n",
    "    X_pca, labels, centers_pca, \n",
    "    title='Iris Clusters (PCA)'\n",
    ");\n"
   ]
  },
  {
   "cell_type": "markdown",
   "metadata": {},
   "source": [
    "**Visualization**"
   ]
  },
  {
   "cell_type": "code",
   "execution_count": null,
   "metadata": {},
   "outputs": [
    {
     "data": {
      "application/vnd.plotly.v1+json": {
       "config": {
        "plotlyServerURL": "https://plot.ly"
       },
       "data": [
        {
         "hoverinfo": "text",
         "marker": {
          "color": "rgb(127,0,255)",
          "line": {
           "color": "darkgrey",
           "width": 1
          },
          "size": 8
         },
         "mode": "markers",
         "name": "Cluster 0",
         "text": [
          "1",
          "1",
          "1",
          "1",
          "1",
          "1",
          "1",
          "1",
          "1",
          "1",
          "1",
          "1",
          "1",
          "1",
          "1",
          "1",
          "1",
          "1",
          "1",
          "1",
          "1",
          "1",
          "1",
          "1",
          "1",
          "1",
          "1",
          "1",
          "1",
          "1",
          "1",
          "1",
          "1",
          "1",
          "1",
          "1",
          "1",
          "1",
          "1",
          "2",
          "2",
          "2",
          "2",
          "2",
          "2",
          "2",
          "2",
          "2",
          "2",
          "2",
          "2",
          "2",
          "2"
         ],
         "type": "scatter",
         "x": {
          "bdata": "eNzS0jMU2j97qaz1JDXxP7+PstlA4Ng/7bQBuksw378xddTGXrHtP//GixedZoc/elq+ytI1vL+iZrxLUjTcP/J3H4/K/OE/WuVpp6YG5z+sJ6Qe3hOhvw8i2viFatY/mlM/PONTxD/cAyvI+5nzPz7UMZwHHMU/XxcmRX173j/0B26IMb/zP7BK2NZfQOQ/VqI3TjN85j9rQnNrC0blP1ihZtLGnKS/D3OedOW9wD/e7oZQ+wOYP2g1ieO56s4/EQ4vVz768D8l750hVqvMP7UKeopmtvA/wOpgS4rQsT8Cwea2fSTSPxC2TAhp3NE/8cmRyXn84z+E0XSttonVP/MRBjgDLte/8ox0ajJ40j8aXi10aWO3P5MNHIXTJc0/Ew0y2sVx4j/fcY6Rk6bcv27rySJGbtA/lLzV3q6G8j/2lJrBN33XPz/8Q3NuKfQ/DgPIiHl79z+T7FBnYzj0P7wEt0CeS+8/PHocQ+tU9T85By93Oc3yPzKS0pSM0/E/ZFkQpVQ98z91a2JsKpjtP5S81d6uhvI/vzNpi4UI+T903va2sb3uPw==",
          "dtype": "f8"
         },
         "y": {
          "bdata": "B9vh6gkS/L8CI0t0iq3Kv/aJuvYt/OK/D2ajroyj/b+y4D2973+gPz5bMr9Wi/C/X4mmh4o7BcAh21UMHTSwvwxC06FPPPy/HN/gNzXWx789cm3roBjcvywY3C++IMm/epShK9lY6b+fqgbrtfT5v75oucZ81/S/IUPxH2C12r8Xqjbrzd3tv5Ut664Yptq/XNrly8E7sL/Qu5U1NOvMvwri0duC8PC/wEw2wBD/+L/Vsy4r3Cj5v5vk+cZI3+i/+qrdoHFI5L8PXLiX4WrSv82Uese4IPa/fGLWba8YzL8fIqnp6UT1v/X4gAej6/G/a8BALmyFmT9lImR2AaHvv0I8oy9mJwDAMkhRjSRi678zclu3TTHHv8+E2tWHoti/LY2H5eXSw7/EBLlGX7P4v2929D3LKeO/0tlbVCRd5r83BLh06vv4v9kDNmKemPK/WwPvfC1O3L/TCnU+1E77vyDsgrLkS+K/On68uP7V3r+zKs2Zzj/Uv1IS34c+v9K/aQ5gcUv26b//jra07qKRP9LZW1QkXea/w+LeiKix7L9xxS2cZuqYvw==",
          "dtype": "f8"
         }
        },
        {
         "hoverinfo": "text",
         "marker": {
          "color": "rgb(128,254,179)",
          "line": {
           "color": "darkgrey",
           "width": 1
          },
          "size": 8
         },
         "mode": "markers",
         "name": "Cluster 1",
         "text": [
          "0",
          "0",
          "0",
          "0",
          "0",
          "0",
          "0",
          "0",
          "0",
          "0",
          "0",
          "0",
          "0",
          "0",
          "0",
          "0",
          "0",
          "0",
          "0",
          "0",
          "0",
          "0",
          "0",
          "0",
          "0",
          "0",
          "0",
          "0",
          "0",
          "0",
          "0",
          "0",
          "0",
          "0",
          "0",
          "0",
          "0",
          "0",
          "0",
          "0",
          "0",
          "0",
          "0",
          "0",
          "0",
          "0",
          "0",
          "0",
          "0",
          "0"
         ],
         "type": "scatter",
         "x": {
          "bdata": "ROeXgRweAsD/g9/1zqUAwOGxFezw6QLAjhhpjSNlAsCjW9eRZR4DwF7eB2bkmgDApQ5r/V6NA8ARk6L43twBwJE/pPxXrQLAxZTYDIF5AcCWDdxjmlQBwECz7H/qmwLA2cpRL2O/AcCJF/sYlxAFwINXO1AFlwHAPxmu7gMZAsDn8uS8I6kBwBNTpvbVhQHAvjFxB41g/r8WUytGOL8CwFd8YiYRof6/L/16WfanAcDOOrei2zEGwLevPzhFGf2/2OPG/jrRAcAljuA3wzr/v40lCA3CaADAeO9f/T5ZAcDjclhx0x0BwHri72pBHwLAG26wWvgeAcAcQHlRNk79v/QNytJp6wTApWjMc8WRA8CUAOeBOuEAwAvfSraXqQHAxGFMnXVcAMB7oknL+TcEwGpGGjTjbwPAauAhSpFbAcDcSt56s0oCwB9n4Zzeuv2/2cmX99ltBMDGfcexYG7/v1uqXGSyGAHAd6JuGdaOAMAkomX77hMDwGgf38SuJwPAP8BcEujVAcB9Fptsc6EBwA==",
          "dtype": "f8"
         },
         "y": {
          "bdata": "QCRRecG43j9eMliJgJLlv1fHNDHS4dW/WrooFtsd478Kt+4d4LLkP5ikic+r0/c/boRU/dFkqD9fAS+1HZDMP6PnJtVh2PG/yqLmdFEE3r+IHWD49LLwP9hN1Py1CME/bhltrVBR57/HbpXCqcTuvzGiZD/Lwv0/32pauIJ9BUBcruwr3bz3P1zKlYEgSd8/nPzH/PR69j9+xSHLqwvyPycNZiGxKto/KiUtGWeS7T8i9dStgFXdP5RWTOAp57U/QhOC0o2RwT8kqMhFEQXkv0SGex03/84/QKFprmje4D9z2sS2wgvUP6LkXUZmndW/PBd1hDIl4L/lbLXq0R3bP8vRzZh8svw/Hfw/0bA0AUCw/KFs8nPdvy6LRCq6Ycq/Amek6nsr5T/9z9n5D/TiP3qR4/oK7+y/q6h8GlA10T8krBOeEEXcPzDu1rcGswLAUz/k8JWp3r8pgbihmTreP0HlzzCSRvI/U3MopfHA5r+G2fexR+3xPx75fM1EuNi/D6fNUEnv7z9OFCORBuCCPw==",
          "dtype": "f8"
         }
        },
        {
         "hoverinfo": "text",
         "marker": {
          "color": "rgb(255,0,0)",
          "line": {
           "color": "darkgrey",
           "width": 1
          },
          "size": 8
         },
         "mode": "markers",
         "name": "Cluster 2",
         "text": [
          "1",
          "1",
          "1",
          "1",
          "1",
          "1",
          "1",
          "1",
          "1",
          "1",
          "1",
          "2",
          "2",
          "2",
          "2",
          "2",
          "2",
          "2",
          "2",
          "2",
          "2",
          "2",
          "2",
          "2",
          "2",
          "2",
          "2",
          "2",
          "2",
          "2",
          "2",
          "2",
          "2",
          "2",
          "2",
          "2",
          "2",
          "2",
          "2",
          "2",
          "2",
          "2",
          "2",
          "2",
          "2",
          "2",
          "2"
         ],
         "type": "scatter",
         "x": {
          "bdata": "NvhITuWg8T9ZWI2+HWfnP0JThSEN2/M/sgAQV5Lj5z/MWe3wVQPsPxuTaaQYm+c/BZblvQz66z+VxapNqRr0PxfnNAIHvPU/vOGk6AN32z8WdKUQl8fwP0dxIaVag/0/Jf1U6mKkAUBBOyds2wr3P4U4FhGP4v0/YF7bKtYDBkAlfB1fZWsCQGT5f6KxDQBAiwCSJQYUAkABGU+uqdP1PwIxu2OSpPk/RqHrD3Uk/j9gQdTp9HD5PzD4Pbf7ivc/o9wOLB9pA0CvD2D3TXwKQIOySjQ+TQBAaUWf52MuB0A2xk6/NDb7P99pdRTsRP8/TyWhPtBV8D8nnU/OFJ38P3ALzRiA0f0/cfrfTtV8A0ArSgfyfXACQInFMuShzf0/vt+qwuFjBkBinAYeWDj5P3EPv5ZpivU/5fgA/vmh/T/4XULuVB4AQNeqeye1bf4/H4o4MRBTAEC8Z9sWafj/P+rtZNyU7f0/JKq44LZW+D8o+kRU8Pb1Pw==",
          "dtype": "f8"
         },
         "y": {
          "bdata": "8CY5VXid6z/FCw92FQfjP1Mjzdu1uOM/7nkU/5K86D+vQL1+QErgP5QkSbBtYdk/iucju/8M0D+dTAPuDMezv0rHhOk1NNU/m4DYfAIP6z8YBUv4pbTgP/Clxct92us/51NYZf374T8O+HbUwQ6ov7Vn+a8D4tI/uJW6wfOc6T+dbK+9WuLaP94Mw/4axOa/4r9iYHW8/j+8IYSVDyvmPynXHuIj/dq/4FaNfPzU2j8jfZUlzKPlP5PsD6QbXNA/x+9Y0Ap0BED0sktPKzWSP5lNjIyMIu0/9b/PWRh52j8wnM0iBjnwP9ftkWbbH/A/oxw2O/t4sD/7bJrIc/vHv4fN0B5J/uE/ctwtvB2Y0D/pM+bgtQIFQMQgEbi12sa/Pmjp0O5q6z+oD9GA6BjxP2c2nGYaCds/O32jjdei5T+hRMJ986TjP/uxfKAAEeY/1K82kLrC6z9LQhIrZcnwP2WYWmINxNg/E1bCyW040T8FIfgcGS7wPw==",
          "dtype": "f8"
         }
        },
        {
         "marker": {
          "color": "black",
          "line": {
           "color": "white",
           "width": 1
          },
          "size": 12,
          "symbol": "star"
         },
         "mode": "markers",
         "name": "Centroids",
         "type": "scatter",
         "x": {
          "bdata": "Z5q0V7ff4T/tMW5ZLQECwKoWAgd/Evs/",
          "dtype": "f8"
         },
         "y": {
          "bdata": "GmQtIbCd6r/zniMsepvOP2F8JJbR9uI/",
          "dtype": "f8"
         }
        }
       ],
       "layout": {
        "hovermode": "closest",
        "legend": {
         "x": 0,
         "y": 1
        },
        "showlegend": true,
        "template": {
         "data": {
          "bar": [
           {
            "error_x": {
             "color": "#2a3f5f"
            },
            "error_y": {
             "color": "#2a3f5f"
            },
            "marker": {
             "line": {
              "color": "#E5ECF6",
              "width": 0.5
             },
             "pattern": {
              "fillmode": "overlay",
              "size": 10,
              "solidity": 0.2
             }
            },
            "type": "bar"
           }
          ],
          "barpolar": [
           {
            "marker": {
             "line": {
              "color": "#E5ECF6",
              "width": 0.5
             },
             "pattern": {
              "fillmode": "overlay",
              "size": 10,
              "solidity": 0.2
             }
            },
            "type": "barpolar"
           }
          ],
          "carpet": [
           {
            "aaxis": {
             "endlinecolor": "#2a3f5f",
             "gridcolor": "white",
             "linecolor": "white",
             "minorgridcolor": "white",
             "startlinecolor": "#2a3f5f"
            },
            "baxis": {
             "endlinecolor": "#2a3f5f",
             "gridcolor": "white",
             "linecolor": "white",
             "minorgridcolor": "white",
             "startlinecolor": "#2a3f5f"
            },
            "type": "carpet"
           }
          ],
          "choropleth": [
           {
            "colorbar": {
             "outlinewidth": 0,
             "ticks": ""
            },
            "type": "choropleth"
           }
          ],
          "contour": [
           {
            "colorbar": {
             "outlinewidth": 0,
             "ticks": ""
            },
            "colorscale": [
             [
              0,
              "#0d0887"
             ],
             [
              0.1111111111111111,
              "#46039f"
             ],
             [
              0.2222222222222222,
              "#7201a8"
             ],
             [
              0.3333333333333333,
              "#9c179e"
             ],
             [
              0.4444444444444444,
              "#bd3786"
             ],
             [
              0.5555555555555556,
              "#d8576b"
             ],
             [
              0.6666666666666666,
              "#ed7953"
             ],
             [
              0.7777777777777778,
              "#fb9f3a"
             ],
             [
              0.8888888888888888,
              "#fdca26"
             ],
             [
              1,
              "#f0f921"
             ]
            ],
            "type": "contour"
           }
          ],
          "contourcarpet": [
           {
            "colorbar": {
             "outlinewidth": 0,
             "ticks": ""
            },
            "type": "contourcarpet"
           }
          ],
          "heatmap": [
           {
            "colorbar": {
             "outlinewidth": 0,
             "ticks": ""
            },
            "colorscale": [
             [
              0,
              "#0d0887"
             ],
             [
              0.1111111111111111,
              "#46039f"
             ],
             [
              0.2222222222222222,
              "#7201a8"
             ],
             [
              0.3333333333333333,
              "#9c179e"
             ],
             [
              0.4444444444444444,
              "#bd3786"
             ],
             [
              0.5555555555555556,
              "#d8576b"
             ],
             [
              0.6666666666666666,
              "#ed7953"
             ],
             [
              0.7777777777777778,
              "#fb9f3a"
             ],
             [
              0.8888888888888888,
              "#fdca26"
             ],
             [
              1,
              "#f0f921"
             ]
            ],
            "type": "heatmap"
           }
          ],
          "histogram": [
           {
            "marker": {
             "pattern": {
              "fillmode": "overlay",
              "size": 10,
              "solidity": 0.2
             }
            },
            "type": "histogram"
           }
          ],
          "histogram2d": [
           {
            "colorbar": {
             "outlinewidth": 0,
             "ticks": ""
            },
            "colorscale": [
             [
              0,
              "#0d0887"
             ],
             [
              0.1111111111111111,
              "#46039f"
             ],
             [
              0.2222222222222222,
              "#7201a8"
             ],
             [
              0.3333333333333333,
              "#9c179e"
             ],
             [
              0.4444444444444444,
              "#bd3786"
             ],
             [
              0.5555555555555556,
              "#d8576b"
             ],
             [
              0.6666666666666666,
              "#ed7953"
             ],
             [
              0.7777777777777778,
              "#fb9f3a"
             ],
             [
              0.8888888888888888,
              "#fdca26"
             ],
             [
              1,
              "#f0f921"
             ]
            ],
            "type": "histogram2d"
           }
          ],
          "histogram2dcontour": [
           {
            "colorbar": {
             "outlinewidth": 0,
             "ticks": ""
            },
            "colorscale": [
             [
              0,
              "#0d0887"
             ],
             [
              0.1111111111111111,
              "#46039f"
             ],
             [
              0.2222222222222222,
              "#7201a8"
             ],
             [
              0.3333333333333333,
              "#9c179e"
             ],
             [
              0.4444444444444444,
              "#bd3786"
             ],
             [
              0.5555555555555556,
              "#d8576b"
             ],
             [
              0.6666666666666666,
              "#ed7953"
             ],
             [
              0.7777777777777778,
              "#fb9f3a"
             ],
             [
              0.8888888888888888,
              "#fdca26"
             ],
             [
              1,
              "#f0f921"
             ]
            ],
            "type": "histogram2dcontour"
           }
          ],
          "mesh3d": [
           {
            "colorbar": {
             "outlinewidth": 0,
             "ticks": ""
            },
            "type": "mesh3d"
           }
          ],
          "parcoords": [
           {
            "line": {
             "colorbar": {
              "outlinewidth": 0,
              "ticks": ""
             }
            },
            "type": "parcoords"
           }
          ],
          "pie": [
           {
            "automargin": true,
            "type": "pie"
           }
          ],
          "scatter": [
           {
            "fillpattern": {
             "fillmode": "overlay",
             "size": 10,
             "solidity": 0.2
            },
            "type": "scatter"
           }
          ],
          "scatter3d": [
           {
            "line": {
             "colorbar": {
              "outlinewidth": 0,
              "ticks": ""
             }
            },
            "marker": {
             "colorbar": {
              "outlinewidth": 0,
              "ticks": ""
             }
            },
            "type": "scatter3d"
           }
          ],
          "scattercarpet": [
           {
            "marker": {
             "colorbar": {
              "outlinewidth": 0,
              "ticks": ""
             }
            },
            "type": "scattercarpet"
           }
          ],
          "scattergeo": [
           {
            "marker": {
             "colorbar": {
              "outlinewidth": 0,
              "ticks": ""
             }
            },
            "type": "scattergeo"
           }
          ],
          "scattergl": [
           {
            "marker": {
             "colorbar": {
              "outlinewidth": 0,
              "ticks": ""
             }
            },
            "type": "scattergl"
           }
          ],
          "scattermap": [
           {
            "marker": {
             "colorbar": {
              "outlinewidth": 0,
              "ticks": ""
             }
            },
            "type": "scattermap"
           }
          ],
          "scattermapbox": [
           {
            "marker": {
             "colorbar": {
              "outlinewidth": 0,
              "ticks": ""
             }
            },
            "type": "scattermapbox"
           }
          ],
          "scatterpolar": [
           {
            "marker": {
             "colorbar": {
              "outlinewidth": 0,
              "ticks": ""
             }
            },
            "type": "scatterpolar"
           }
          ],
          "scatterpolargl": [
           {
            "marker": {
             "colorbar": {
              "outlinewidth": 0,
              "ticks": ""
             }
            },
            "type": "scatterpolargl"
           }
          ],
          "scatterternary": [
           {
            "marker": {
             "colorbar": {
              "outlinewidth": 0,
              "ticks": ""
             }
            },
            "type": "scatterternary"
           }
          ],
          "surface": [
           {
            "colorbar": {
             "outlinewidth": 0,
             "ticks": ""
            },
            "colorscale": [
             [
              0,
              "#0d0887"
             ],
             [
              0.1111111111111111,
              "#46039f"
             ],
             [
              0.2222222222222222,
              "#7201a8"
             ],
             [
              0.3333333333333333,
              "#9c179e"
             ],
             [
              0.4444444444444444,
              "#bd3786"
             ],
             [
              0.5555555555555556,
              "#d8576b"
             ],
             [
              0.6666666666666666,
              "#ed7953"
             ],
             [
              0.7777777777777778,
              "#fb9f3a"
             ],
             [
              0.8888888888888888,
              "#fdca26"
             ],
             [
              1,
              "#f0f921"
             ]
            ],
            "type": "surface"
           }
          ],
          "table": [
           {
            "cells": {
             "fill": {
              "color": "#EBF0F8"
             },
             "line": {
              "color": "white"
             }
            },
            "header": {
             "fill": {
              "color": "#C8D4E3"
             },
             "line": {
              "color": "white"
             }
            },
            "type": "table"
           }
          ]
         },
         "layout": {
          "annotationdefaults": {
           "arrowcolor": "#2a3f5f",
           "arrowhead": 0,
           "arrowwidth": 1
          },
          "autotypenumbers": "strict",
          "coloraxis": {
           "colorbar": {
            "outlinewidth": 0,
            "ticks": ""
           }
          },
          "colorscale": {
           "diverging": [
            [
             0,
             "#8e0152"
            ],
            [
             0.1,
             "#c51b7d"
            ],
            [
             0.2,
             "#de77ae"
            ],
            [
             0.3,
             "#f1b6da"
            ],
            [
             0.4,
             "#fde0ef"
            ],
            [
             0.5,
             "#f7f7f7"
            ],
            [
             0.6,
             "#e6f5d0"
            ],
            [
             0.7,
             "#b8e186"
            ],
            [
             0.8,
             "#7fbc41"
            ],
            [
             0.9,
             "#4d9221"
            ],
            [
             1,
             "#276419"
            ]
           ],
           "sequential": [
            [
             0,
             "#0d0887"
            ],
            [
             0.1111111111111111,
             "#46039f"
            ],
            [
             0.2222222222222222,
             "#7201a8"
            ],
            [
             0.3333333333333333,
             "#9c179e"
            ],
            [
             0.4444444444444444,
             "#bd3786"
            ],
            [
             0.5555555555555556,
             "#d8576b"
            ],
            [
             0.6666666666666666,
             "#ed7953"
            ],
            [
             0.7777777777777778,
             "#fb9f3a"
            ],
            [
             0.8888888888888888,
             "#fdca26"
            ],
            [
             1,
             "#f0f921"
            ]
           ],
           "sequentialminus": [
            [
             0,
             "#0d0887"
            ],
            [
             0.1111111111111111,
             "#46039f"
            ],
            [
             0.2222222222222222,
             "#7201a8"
            ],
            [
             0.3333333333333333,
             "#9c179e"
            ],
            [
             0.4444444444444444,
             "#bd3786"
            ],
            [
             0.5555555555555556,
             "#d8576b"
            ],
            [
             0.6666666666666666,
             "#ed7953"
            ],
            [
             0.7777777777777778,
             "#fb9f3a"
            ],
            [
             0.8888888888888888,
             "#fdca26"
            ],
            [
             1,
             "#f0f921"
            ]
           ]
          },
          "colorway": [
           "#636efa",
           "#EF553B",
           "#00cc96",
           "#ab63fa",
           "#FFA15A",
           "#19d3f3",
           "#FF6692",
           "#B6E880",
           "#FF97FF",
           "#FECB52"
          ],
          "font": {
           "color": "#2a3f5f"
          },
          "geo": {
           "bgcolor": "white",
           "lakecolor": "white",
           "landcolor": "#E5ECF6",
           "showlakes": true,
           "showland": true,
           "subunitcolor": "white"
          },
          "hoverlabel": {
           "align": "left"
          },
          "hovermode": "closest",
          "mapbox": {
           "style": "light"
          },
          "paper_bgcolor": "white",
          "plot_bgcolor": "#E5ECF6",
          "polar": {
           "angularaxis": {
            "gridcolor": "white",
            "linecolor": "white",
            "ticks": ""
           },
           "bgcolor": "#E5ECF6",
           "radialaxis": {
            "gridcolor": "white",
            "linecolor": "white",
            "ticks": ""
           }
          },
          "scene": {
           "xaxis": {
            "backgroundcolor": "#E5ECF6",
            "gridcolor": "white",
            "gridwidth": 2,
            "linecolor": "white",
            "showbackground": true,
            "ticks": "",
            "zerolinecolor": "white"
           },
           "yaxis": {
            "backgroundcolor": "#E5ECF6",
            "gridcolor": "white",
            "gridwidth": 2,
            "linecolor": "white",
            "showbackground": true,
            "ticks": "",
            "zerolinecolor": "white"
           },
           "zaxis": {
            "backgroundcolor": "#E5ECF6",
            "gridcolor": "white",
            "gridwidth": 2,
            "linecolor": "white",
            "showbackground": true,
            "ticks": "",
            "zerolinecolor": "white"
           }
          },
          "shapedefaults": {
           "line": {
            "color": "#2a3f5f"
           }
          },
          "ternary": {
           "aaxis": {
            "gridcolor": "white",
            "linecolor": "white",
            "ticks": ""
           },
           "baxis": {
            "gridcolor": "white",
            "linecolor": "white",
            "ticks": ""
           },
           "bgcolor": "#E5ECF6",
           "caxis": {
            "gridcolor": "white",
            "linecolor": "white",
            "ticks": ""
           }
          },
          "title": {
           "x": 0.05
          },
          "xaxis": {
           "automargin": true,
           "gridcolor": "white",
           "linecolor": "white",
           "ticks": "",
           "title": {
            "standoff": 15
           },
           "zerolinecolor": "white",
           "zerolinewidth": 2
          },
          "yaxis": {
           "automargin": true,
           "gridcolor": "white",
           "linecolor": "white",
           "ticks": "",
           "title": {
            "standoff": 15
           },
           "zerolinecolor": "white",
           "zerolinewidth": 2
          }
         }
        },
        "title": {
         "text": "Interactive Iris Clusters (PCA)"
        },
        "xaxis": {
         "title": {
          "text": "Component 1"
         }
        },
        "yaxis": {
         "title": {
          "text": "Component 2"
         }
        }
       }
      }
     },
     "metadata": {},
     "output_type": "display_data"
    }
   ],
   "source": [
    "fig = visualization_utils.plot_clusters_plotly(\n",
    "    X_pca, labels, centers_pca,\n",
    "    point_labels=result_df['species'].to_list(),\n",
    "    title='Interactive Iris Clusters (PCA)'\n",
    ")\n",
    "fig.show()\n"
   ]
  },
  {
   "cell_type": "code",
   "execution_count": 18,
   "metadata": {},
   "outputs": [
    {
     "data": {
      "application/vnd.plotly.v1+json": {
       "config": {
        "plotlyServerURL": "https://plot.ly"
       },
       "data": [
        {
         "hoverinfo": "text",
         "marker": {
          "color": "rgb(127,0,255)",
          "line": {
           "color": "darkgrey",
           "width": 0.5
          },
          "size": 4
         },
         "mode": "markers",
         "name": "Cluster 0",
         "text": [
          "1",
          "1",
          "1",
          "1",
          "1",
          "1",
          "1",
          "1",
          "1",
          "1",
          "1",
          "1",
          "1",
          "1",
          "1",
          "1",
          "1",
          "1",
          "1",
          "1",
          "1",
          "1",
          "1",
          "1",
          "1",
          "1",
          "1",
          "1",
          "1",
          "1",
          "1",
          "1",
          "1",
          "1",
          "1",
          "1",
          "1",
          "1",
          "1",
          "2",
          "2",
          "2",
          "2",
          "2",
          "2",
          "2",
          "2",
          "2",
          "2",
          "2",
          "2",
          "2",
          "2"
         ],
         "type": "scatter3d",
         "x": {
          "bdata": "eNzS0jMU2j97qaz1JDXxP7+PstlA4Ng/7bQBuksw378xddTGXrHtP//GixedZoc/elq+ytI1vL+iZrxLUjTcP/J3H4/K/OE/WuVpp6YG5z+sJ6Qe3hOhvw8i2viFatY/mlM/PONTxD/cAyvI+5nzPz7UMZwHHMU/XxcmRX173j/0B26IMb/zP7BK2NZfQOQ/VqI3TjN85j9rQnNrC0blP1ihZtLGnKS/D3OedOW9wD/e7oZQ+wOYP2g1ieO56s4/EQ4vVz768D8l750hVqvMP7UKeopmtvA/wOpgS4rQsT8Cwea2fSTSPxC2TAhp3NE/8cmRyXn84z+E0XSttonVP/MRBjgDLte/8ox0ajJ40j8aXi10aWO3P5MNHIXTJc0/Ew0y2sVx4j/fcY6Rk6bcv27rySJGbtA/lLzV3q6G8j/2lJrBN33XPz/8Q3NuKfQ/DgPIiHl79z+T7FBnYzj0P7wEt0CeS+8/PHocQ+tU9T85By93Oc3yPzKS0pSM0/E/ZFkQpVQ98z91a2JsKpjtP5S81d6uhvI/vzNpi4UI+T903va2sb3uPw==",
          "dtype": "f8"
         },
         "y": {
          "bdata": "B9vh6gkS/L8CI0t0iq3Kv/aJuvYt/OK/D2ajroyj/b+y4D2973+gPz5bMr9Wi/C/X4mmh4o7BcAh21UMHTSwvwxC06FPPPy/HN/gNzXWx789cm3roBjcvywY3C++IMm/epShK9lY6b+fqgbrtfT5v75oucZ81/S/IUPxH2C12r8Xqjbrzd3tv5Ut664Yptq/XNrly8E7sL/Qu5U1NOvMvwri0duC8PC/wEw2wBD/+L/Vsy4r3Cj5v5vk+cZI3+i/+qrdoHFI5L8PXLiX4WrSv82Uese4IPa/fGLWba8YzL8fIqnp6UT1v/X4gAej6/G/a8BALmyFmT9lImR2AaHvv0I8oy9mJwDAMkhRjSRi678zclu3TTHHv8+E2tWHoti/LY2H5eXSw7/EBLlGX7P4v2929D3LKeO/0tlbVCRd5r83BLh06vv4v9kDNmKemPK/WwPvfC1O3L/TCnU+1E77vyDsgrLkS+K/On68uP7V3r+zKs2Zzj/Uv1IS34c+v9K/aQ5gcUv26b//jra07qKRP9LZW1QkXea/w+LeiKix7L9xxS2cZuqYvw==",
          "dtype": "f8"
         },
         "z": {
          "bdata": "E9X1ZP2nlz+cZie7BH3ZPy+/nnMEy7+/BfpLmuznz7+/HL/E0RPjP26jFe+pPuG/tf79xer0pz/hUgzZ2z/Kv3yYfgIzgeg/o3Ar9aGTsT97neGgj/PIv0XGYeZ2at+/JrqZupNU0z+MhI6yEd7eP4uiXZ+MH8Y/JC78Lvr00D+qNPkQEZTXP2hfhJ5trtI/nBGn3LSL3D8e9AoCLfu1vzFMQLLjc9Q/cEU0m6gywz+wdjVmL+vOPyl5KdXpWsM/VvpG4a/1ur91CrvHuUnlvy8y0j+FBuY/LnviHTyp0r9+6XVEk+O2v8Y4OuRWMLi/xNM3hQL5lD8DNxh/moXJP1ynlZMWF7u/LIn8Qv7AwL8LqqvCXILAv8TpwejK/sO/6sKSM7hi0T9T/pjEDl/Iv3TwrYdkhbe/MVjVahL34L/p6o0woZTvv2Y/ZfVmkeK/rjXKitkP8L9A9b4PUx/RP2Nu3J0EgOq/NHfuUQ08dj+5mHPozKHAv6CurzCMfMc/zVZtB6sVxT/A8rrER63avzFY1WoS9+C/744/cxcBmz9qIMEKaufgvw==",
          "dtype": "f8"
         }
        },
        {
         "hoverinfo": "text",
         "marker": {
          "color": "rgb(128,254,179)",
          "line": {
           "color": "darkgrey",
           "width": 0.5
          },
          "size": 4
         },
         "mode": "markers",
         "name": "Cluster 1",
         "text": [
          "0",
          "0",
          "0",
          "0",
          "0",
          "0",
          "0",
          "0",
          "0",
          "0",
          "0",
          "0",
          "0",
          "0",
          "0",
          "0",
          "0",
          "0",
          "0",
          "0",
          "0",
          "0",
          "0",
          "0",
          "0",
          "0",
          "0",
          "0",
          "0",
          "0",
          "0",
          "0",
          "0",
          "0",
          "0",
          "0",
          "0",
          "0",
          "0",
          "0",
          "0",
          "0",
          "0",
          "0",
          "0",
          "0",
          "0",
          "0",
          "0",
          "0"
         ],
         "type": "scatter3d",
         "x": {
          "bdata": "ROeXgRweAsD/g9/1zqUAwOGxFezw6QLAjhhpjSNlAsCjW9eRZR4DwF7eB2bkmgDApQ5r/V6NA8ARk6L43twBwJE/pPxXrQLAxZTYDIF5AcCWDdxjmlQBwECz7H/qmwLA2cpRL2O/AcCJF/sYlxAFwINXO1AFlwHAPxmu7gMZAsDn8uS8I6kBwBNTpvbVhQHAvjFxB41g/r8WUytGOL8CwFd8YiYRof6/L/16WfanAcDOOrei2zEGwLevPzhFGf2/2OPG/jrRAcAljuA3wzr/v40lCA3CaADAeO9f/T5ZAcDjclhx0x0BwHri72pBHwLAG26wWvgeAcAcQHlRNk79v/QNytJp6wTApWjMc8WRA8CUAOeBOuEAwAvfSraXqQHAxGFMnXVcAMB7oknL+TcEwGpGGjTjbwPAauAhSpFbAcDcSt56s0oCwB9n4Zzeuv2/2cmX99ltBMDGfcexYG7/v1uqXGSyGAHAd6JuGdaOAMAkomX77hMDwGgf38SuJwPAP8BcEujVAcB9Fptsc6EBwA==",
          "dtype": "f8"
         },
         "y": {
          "bdata": "QCRRecG43j9eMliJgJLlv1fHNDHS4dW/WrooFtsd478Kt+4d4LLkP5ikic+r0/c/boRU/dFkqD9fAS+1HZDMP6PnJtVh2PG/yqLmdFEE3r+IHWD49LLwP9hN1Py1CME/bhltrVBR57/HbpXCqcTuvzGiZD/Lwv0/32pauIJ9BUBcruwr3bz3P1zKlYEgSd8/nPzH/PR69j9+xSHLqwvyPycNZiGxKto/KiUtGWeS7T8i9dStgFXdP5RWTOAp57U/QhOC0o2RwT8kqMhFEQXkv0SGex03/84/QKFprmje4D9z2sS2wgvUP6LkXUZmndW/PBd1hDIl4L/lbLXq0R3bP8vRzZh8svw/Hfw/0bA0AUCw/KFs8nPdvy6LRCq6Ycq/Amek6nsr5T/9z9n5D/TiP3qR4/oK7+y/q6h8GlA10T8krBOeEEXcPzDu1rcGswLAUz/k8JWp3r8pgbihmTreP0HlzzCSRvI/U3MopfHA5r+G2fexR+3xPx75fM1EuNi/D6fNUEnv7z9OFCORBuCCPw==",
          "dtype": "f8"
         },
         "z": {
          "bdata": "8QSkwqtYwD8Vnpu1qQfOP1hToreToaa/JH8Y1clet7/yCulurB2Qv79Pl5qTnZu/GeJr2Fh41b9c6PyGv7S2P58TXfDgkcK/+eEZ77E90D/xk8Q4EjLRPxSGUBibALi/u2YK2n+OzT811eB6UyTHv4UUB4wCRN4/nwXQEV5Cn7+FrK9UsON1Pxq2g9Rjo6Y/lPhsfj311z9Ws6P+CPrAv6S9aTZ19to/FPO5JHd2xL9j+hoebELVv7J9Fz59qKG/HCFFCdM0vr+J3Nkxn4/TP/eoC6rzG7a/3Tk6bvR4yj+xlZKJhlrRP7TExcwBhbG//Ic81MAzsz8RwGRmVk/RP0PzPsNSLqi/3LP2pbsptT+RrLAQkcvFPw1x0gpF28w/yaw5MqkC3z8oxXJL++aTv3/RS5qRvMi/zcKSbFyDxj8GHdXZvt2hv4ZLP9VYJMo/b8CSdK2R079/bbwLgtDTvxgyH8KrzM+/3W8IfrRdsD8I13q6qEutv2/9epQV2sG/Idl0yCc7xz+xZWloeJbDPw==",
          "dtype": "f8"
         }
        },
        {
         "hoverinfo": "text",
         "marker": {
          "color": "rgb(255,0,0)",
          "line": {
           "color": "darkgrey",
           "width": 0.5
          },
          "size": 4
         },
         "mode": "markers",
         "name": "Cluster 2",
         "text": [
          "1",
          "1",
          "1",
          "1",
          "1",
          "1",
          "1",
          "1",
          "1",
          "1",
          "1",
          "2",
          "2",
          "2",
          "2",
          "2",
          "2",
          "2",
          "2",
          "2",
          "2",
          "2",
          "2",
          "2",
          "2",
          "2",
          "2",
          "2",
          "2",
          "2",
          "2",
          "2",
          "2",
          "2",
          "2",
          "2",
          "2",
          "2",
          "2",
          "2",
          "2",
          "2",
          "2",
          "2",
          "2",
          "2",
          "2"
         ],
         "type": "scatter3d",
         "x": {
          "bdata": "NvhITuWg8T9ZWI2+HWfnP0JThSEN2/M/sgAQV5Lj5z/MWe3wVQPsPxuTaaQYm+c/BZblvQz66z+VxapNqRr0PxfnNAIHvPU/vOGk6AN32z8WdKUQl8fwP0dxIaVag/0/Jf1U6mKkAUBBOyds2wr3P4U4FhGP4v0/YF7bKtYDBkAlfB1fZWsCQGT5f6KxDQBAiwCSJQYUAkABGU+uqdP1PwIxu2OSpPk/RqHrD3Uk/j9gQdTp9HD5PzD4Pbf7ivc/o9wOLB9pA0CvD2D3TXwKQIOySjQ+TQBAaUWf52MuB0A2xk6/NDb7P99pdRTsRP8/TyWhPtBV8D8nnU/OFJ38P3ALzRiA0f0/cfrfTtV8A0ArSgfyfXACQInFMuShzf0/vt+qwuFjBkBinAYeWDj5P3EPv5ZpivU/5fgA/vmh/T/4XULuVB4AQNeqeye1bf4/H4o4MRBTAEC8Z9sWafj/P+rtZNyU7f0/JKq44LZW+D8o+kRU8Pb1Pw==",
          "dtype": "f8"
         },
         "y": {
          "bdata": "8CY5VXid6z/FCw92FQfjP1Mjzdu1uOM/7nkU/5K86D+vQL1+QErgP5QkSbBtYdk/iucju/8M0D+dTAPuDMezv0rHhOk1NNU/m4DYfAIP6z8YBUv4pbTgP/Clxct92us/51NYZf374T8O+HbUwQ6ov7Vn+a8D4tI/uJW6wfOc6T+dbK+9WuLaP94Mw/4axOa/4r9iYHW8/j+8IYSVDyvmPynXHuIj/dq/4FaNfPzU2j8jfZUlzKPlP5PsD6QbXNA/x+9Y0Ap0BED0sktPKzWSP5lNjIyMIu0/9b/PWRh52j8wnM0iBjnwP9ftkWbbH/A/oxw2O/t4sD/7bJrIc/vHv4fN0B5J/uE/ctwtvB2Y0D/pM+bgtQIFQMQgEbi12sa/Pmjp0O5q6z+oD9GA6BjxP2c2nGYaCds/O32jjdei5T+hRMJ986TjP/uxfKAAEeY/1K82kLrC6z9LQhIrZcnwP2WYWmINxNg/E1bCyW040T8FIfgcGS7wPw==",
          "dtype": "f8"
         },
         "z": {
          "bdata": "Xn2BPSHo5T9McwpaXBi4P9rM94psuuE/3jf7620Rw7+qC6zmwxzgP+H4WGCVuuO/yluEzLs+3j8/pwSR2kTnP4iST/RhsdA/82PUSTDX3L/cZFlqkFTZP07Ln2AfFvC/iRl1bRf5yT+B8LzS1PHEvw7ehKz5Udm/hPsZs0ai4j9e22Z2x9rkP626JTokN9k/jBuGg31x2b/jQzWPFTfSvzHivX4tvpe/E1l7vnT4mr8TFMEKAm7kv9FDDKowKqO/Jk4Ub2tewD/Sx+sfeoHmPzoul9PoDc6/dboW5f9v6z8/OhOZ0BnTv6VyXZkH4do/W9jvbiOd1b8jiGL1dVLRv8q95YV55uY/DWzlFUVK5z/us14qE5XfP9kTJFxfqta/0CN7c31f4T/V7Ds6b0Tuv0s3BHvtJse/GlxiddbziT+/+Csnzmnbv367NTtMpsC/U9jTuyak1b+HtAwauzzkv4PNt3HKZtC/O/IOzRUQx7+4LWGyX97tvw==",
          "dtype": "f8"
         }
        },
        {
         "marker": {
          "color": "black",
          "line": {
           "color": "white",
           "width": 1
          },
          "size": 8,
          "symbol": "diamond"
         },
         "mode": "markers",
         "name": "Centroids",
         "type": "scatter3d",
         "x": {
          "bdata": "Z5q0V7ff4T/tMW5ZLQECwKoWAgd/Evs/",
          "dtype": "f8"
         },
         "y": {
          "bdata": "GmQtIbCd6r/zniMsepvOP2F8JJbR9uI/",
          "dtype": "f8"
         },
         "z": {
          "bdata": "jVJX94gGpLyMUlf3iAakvIxSV/eIBqS8",
          "dtype": "f8"
         }
        }
       ],
       "layout": {
        "hovermode": "closest",
        "legend": {
         "x": 0,
         "y": 1
        },
        "scene": {
         "xaxis": {
          "title": {
           "text": "Component 1"
          }
         },
         "yaxis": {
          "title": {
           "text": "Component 2"
          }
         },
         "zaxis": {
          "title": {
           "text": "Component 3"
          }
         }
        },
        "showlegend": true,
        "template": {
         "data": {
          "bar": [
           {
            "error_x": {
             "color": "#2a3f5f"
            },
            "error_y": {
             "color": "#2a3f5f"
            },
            "marker": {
             "line": {
              "color": "#E5ECF6",
              "width": 0.5
             },
             "pattern": {
              "fillmode": "overlay",
              "size": 10,
              "solidity": 0.2
             }
            },
            "type": "bar"
           }
          ],
          "barpolar": [
           {
            "marker": {
             "line": {
              "color": "#E5ECF6",
              "width": 0.5
             },
             "pattern": {
              "fillmode": "overlay",
              "size": 10,
              "solidity": 0.2
             }
            },
            "type": "barpolar"
           }
          ],
          "carpet": [
           {
            "aaxis": {
             "endlinecolor": "#2a3f5f",
             "gridcolor": "white",
             "linecolor": "white",
             "minorgridcolor": "white",
             "startlinecolor": "#2a3f5f"
            },
            "baxis": {
             "endlinecolor": "#2a3f5f",
             "gridcolor": "white",
             "linecolor": "white",
             "minorgridcolor": "white",
             "startlinecolor": "#2a3f5f"
            },
            "type": "carpet"
           }
          ],
          "choropleth": [
           {
            "colorbar": {
             "outlinewidth": 0,
             "ticks": ""
            },
            "type": "choropleth"
           }
          ],
          "contour": [
           {
            "colorbar": {
             "outlinewidth": 0,
             "ticks": ""
            },
            "colorscale": [
             [
              0,
              "#0d0887"
             ],
             [
              0.1111111111111111,
              "#46039f"
             ],
             [
              0.2222222222222222,
              "#7201a8"
             ],
             [
              0.3333333333333333,
              "#9c179e"
             ],
             [
              0.4444444444444444,
              "#bd3786"
             ],
             [
              0.5555555555555556,
              "#d8576b"
             ],
             [
              0.6666666666666666,
              "#ed7953"
             ],
             [
              0.7777777777777778,
              "#fb9f3a"
             ],
             [
              0.8888888888888888,
              "#fdca26"
             ],
             [
              1,
              "#f0f921"
             ]
            ],
            "type": "contour"
           }
          ],
          "contourcarpet": [
           {
            "colorbar": {
             "outlinewidth": 0,
             "ticks": ""
            },
            "type": "contourcarpet"
           }
          ],
          "heatmap": [
           {
            "colorbar": {
             "outlinewidth": 0,
             "ticks": ""
            },
            "colorscale": [
             [
              0,
              "#0d0887"
             ],
             [
              0.1111111111111111,
              "#46039f"
             ],
             [
              0.2222222222222222,
              "#7201a8"
             ],
             [
              0.3333333333333333,
              "#9c179e"
             ],
             [
              0.4444444444444444,
              "#bd3786"
             ],
             [
              0.5555555555555556,
              "#d8576b"
             ],
             [
              0.6666666666666666,
              "#ed7953"
             ],
             [
              0.7777777777777778,
              "#fb9f3a"
             ],
             [
              0.8888888888888888,
              "#fdca26"
             ],
             [
              1,
              "#f0f921"
             ]
            ],
            "type": "heatmap"
           }
          ],
          "histogram": [
           {
            "marker": {
             "pattern": {
              "fillmode": "overlay",
              "size": 10,
              "solidity": 0.2
             }
            },
            "type": "histogram"
           }
          ],
          "histogram2d": [
           {
            "colorbar": {
             "outlinewidth": 0,
             "ticks": ""
            },
            "colorscale": [
             [
              0,
              "#0d0887"
             ],
             [
              0.1111111111111111,
              "#46039f"
             ],
             [
              0.2222222222222222,
              "#7201a8"
             ],
             [
              0.3333333333333333,
              "#9c179e"
             ],
             [
              0.4444444444444444,
              "#bd3786"
             ],
             [
              0.5555555555555556,
              "#d8576b"
             ],
             [
              0.6666666666666666,
              "#ed7953"
             ],
             [
              0.7777777777777778,
              "#fb9f3a"
             ],
             [
              0.8888888888888888,
              "#fdca26"
             ],
             [
              1,
              "#f0f921"
             ]
            ],
            "type": "histogram2d"
           }
          ],
          "histogram2dcontour": [
           {
            "colorbar": {
             "outlinewidth": 0,
             "ticks": ""
            },
            "colorscale": [
             [
              0,
              "#0d0887"
             ],
             [
              0.1111111111111111,
              "#46039f"
             ],
             [
              0.2222222222222222,
              "#7201a8"
             ],
             [
              0.3333333333333333,
              "#9c179e"
             ],
             [
              0.4444444444444444,
              "#bd3786"
             ],
             [
              0.5555555555555556,
              "#d8576b"
             ],
             [
              0.6666666666666666,
              "#ed7953"
             ],
             [
              0.7777777777777778,
              "#fb9f3a"
             ],
             [
              0.8888888888888888,
              "#fdca26"
             ],
             [
              1,
              "#f0f921"
             ]
            ],
            "type": "histogram2dcontour"
           }
          ],
          "mesh3d": [
           {
            "colorbar": {
             "outlinewidth": 0,
             "ticks": ""
            },
            "type": "mesh3d"
           }
          ],
          "parcoords": [
           {
            "line": {
             "colorbar": {
              "outlinewidth": 0,
              "ticks": ""
             }
            },
            "type": "parcoords"
           }
          ],
          "pie": [
           {
            "automargin": true,
            "type": "pie"
           }
          ],
          "scatter": [
           {
            "fillpattern": {
             "fillmode": "overlay",
             "size": 10,
             "solidity": 0.2
            },
            "type": "scatter"
           }
          ],
          "scatter3d": [
           {
            "line": {
             "colorbar": {
              "outlinewidth": 0,
              "ticks": ""
             }
            },
            "marker": {
             "colorbar": {
              "outlinewidth": 0,
              "ticks": ""
             }
            },
            "type": "scatter3d"
           }
          ],
          "scattercarpet": [
           {
            "marker": {
             "colorbar": {
              "outlinewidth": 0,
              "ticks": ""
             }
            },
            "type": "scattercarpet"
           }
          ],
          "scattergeo": [
           {
            "marker": {
             "colorbar": {
              "outlinewidth": 0,
              "ticks": ""
             }
            },
            "type": "scattergeo"
           }
          ],
          "scattergl": [
           {
            "marker": {
             "colorbar": {
              "outlinewidth": 0,
              "ticks": ""
             }
            },
            "type": "scattergl"
           }
          ],
          "scattermap": [
           {
            "marker": {
             "colorbar": {
              "outlinewidth": 0,
              "ticks": ""
             }
            },
            "type": "scattermap"
           }
          ],
          "scattermapbox": [
           {
            "marker": {
             "colorbar": {
              "outlinewidth": 0,
              "ticks": ""
             }
            },
            "type": "scattermapbox"
           }
          ],
          "scatterpolar": [
           {
            "marker": {
             "colorbar": {
              "outlinewidth": 0,
              "ticks": ""
             }
            },
            "type": "scatterpolar"
           }
          ],
          "scatterpolargl": [
           {
            "marker": {
             "colorbar": {
              "outlinewidth": 0,
              "ticks": ""
             }
            },
            "type": "scatterpolargl"
           }
          ],
          "scatterternary": [
           {
            "marker": {
             "colorbar": {
              "outlinewidth": 0,
              "ticks": ""
             }
            },
            "type": "scatterternary"
           }
          ],
          "surface": [
           {
            "colorbar": {
             "outlinewidth": 0,
             "ticks": ""
            },
            "colorscale": [
             [
              0,
              "#0d0887"
             ],
             [
              0.1111111111111111,
              "#46039f"
             ],
             [
              0.2222222222222222,
              "#7201a8"
             ],
             [
              0.3333333333333333,
              "#9c179e"
             ],
             [
              0.4444444444444444,
              "#bd3786"
             ],
             [
              0.5555555555555556,
              "#d8576b"
             ],
             [
              0.6666666666666666,
              "#ed7953"
             ],
             [
              0.7777777777777778,
              "#fb9f3a"
             ],
             [
              0.8888888888888888,
              "#fdca26"
             ],
             [
              1,
              "#f0f921"
             ]
            ],
            "type": "surface"
           }
          ],
          "table": [
           {
            "cells": {
             "fill": {
              "color": "#EBF0F8"
             },
             "line": {
              "color": "white"
             }
            },
            "header": {
             "fill": {
              "color": "#C8D4E3"
             },
             "line": {
              "color": "white"
             }
            },
            "type": "table"
           }
          ]
         },
         "layout": {
          "annotationdefaults": {
           "arrowcolor": "#2a3f5f",
           "arrowhead": 0,
           "arrowwidth": 1
          },
          "autotypenumbers": "strict",
          "coloraxis": {
           "colorbar": {
            "outlinewidth": 0,
            "ticks": ""
           }
          },
          "colorscale": {
           "diverging": [
            [
             0,
             "#8e0152"
            ],
            [
             0.1,
             "#c51b7d"
            ],
            [
             0.2,
             "#de77ae"
            ],
            [
             0.3,
             "#f1b6da"
            ],
            [
             0.4,
             "#fde0ef"
            ],
            [
             0.5,
             "#f7f7f7"
            ],
            [
             0.6,
             "#e6f5d0"
            ],
            [
             0.7,
             "#b8e186"
            ],
            [
             0.8,
             "#7fbc41"
            ],
            [
             0.9,
             "#4d9221"
            ],
            [
             1,
             "#276419"
            ]
           ],
           "sequential": [
            [
             0,
             "#0d0887"
            ],
            [
             0.1111111111111111,
             "#46039f"
            ],
            [
             0.2222222222222222,
             "#7201a8"
            ],
            [
             0.3333333333333333,
             "#9c179e"
            ],
            [
             0.4444444444444444,
             "#bd3786"
            ],
            [
             0.5555555555555556,
             "#d8576b"
            ],
            [
             0.6666666666666666,
             "#ed7953"
            ],
            [
             0.7777777777777778,
             "#fb9f3a"
            ],
            [
             0.8888888888888888,
             "#fdca26"
            ],
            [
             1,
             "#f0f921"
            ]
           ],
           "sequentialminus": [
            [
             0,
             "#0d0887"
            ],
            [
             0.1111111111111111,
             "#46039f"
            ],
            [
             0.2222222222222222,
             "#7201a8"
            ],
            [
             0.3333333333333333,
             "#9c179e"
            ],
            [
             0.4444444444444444,
             "#bd3786"
            ],
            [
             0.5555555555555556,
             "#d8576b"
            ],
            [
             0.6666666666666666,
             "#ed7953"
            ],
            [
             0.7777777777777778,
             "#fb9f3a"
            ],
            [
             0.8888888888888888,
             "#fdca26"
            ],
            [
             1,
             "#f0f921"
            ]
           ]
          },
          "colorway": [
           "#636efa",
           "#EF553B",
           "#00cc96",
           "#ab63fa",
           "#FFA15A",
           "#19d3f3",
           "#FF6692",
           "#B6E880",
           "#FF97FF",
           "#FECB52"
          ],
          "font": {
           "color": "#2a3f5f"
          },
          "geo": {
           "bgcolor": "white",
           "lakecolor": "white",
           "landcolor": "#E5ECF6",
           "showlakes": true,
           "showland": true,
           "subunitcolor": "white"
          },
          "hoverlabel": {
           "align": "left"
          },
          "hovermode": "closest",
          "mapbox": {
           "style": "light"
          },
          "paper_bgcolor": "white",
          "plot_bgcolor": "#E5ECF6",
          "polar": {
           "angularaxis": {
            "gridcolor": "white",
            "linecolor": "white",
            "ticks": ""
           },
           "bgcolor": "#E5ECF6",
           "radialaxis": {
            "gridcolor": "white",
            "linecolor": "white",
            "ticks": ""
           }
          },
          "scene": {
           "xaxis": {
            "backgroundcolor": "#E5ECF6",
            "gridcolor": "white",
            "gridwidth": 2,
            "linecolor": "white",
            "showbackground": true,
            "ticks": "",
            "zerolinecolor": "white"
           },
           "yaxis": {
            "backgroundcolor": "#E5ECF6",
            "gridcolor": "white",
            "gridwidth": 2,
            "linecolor": "white",
            "showbackground": true,
            "ticks": "",
            "zerolinecolor": "white"
           },
           "zaxis": {
            "backgroundcolor": "#E5ECF6",
            "gridcolor": "white",
            "gridwidth": 2,
            "linecolor": "white",
            "showbackground": true,
            "ticks": "",
            "zerolinecolor": "white"
           }
          },
          "shapedefaults": {
           "line": {
            "color": "#2a3f5f"
           }
          },
          "ternary": {
           "aaxis": {
            "gridcolor": "white",
            "linecolor": "white",
            "ticks": ""
           },
           "baxis": {
            "gridcolor": "white",
            "linecolor": "white",
            "ticks": ""
           },
           "bgcolor": "#E5ECF6",
           "caxis": {
            "gridcolor": "white",
            "linecolor": "white",
            "ticks": ""
           }
          },
          "title": {
           "x": 0.05
          },
          "xaxis": {
           "automargin": true,
           "gridcolor": "white",
           "linecolor": "white",
           "ticks": "",
           "title": {
            "standoff": 15
           },
           "zerolinecolor": "white",
           "zerolinewidth": 2
          },
          "yaxis": {
           "automargin": true,
           "gridcolor": "white",
           "linecolor": "white",
           "ticks": "",
           "title": {
            "standoff": 15
           },
           "zerolinecolor": "white",
           "zerolinewidth": 2
          }
         }
        },
        "title": {
         "text": "Interactive Iris Clusters (PCA 3D)"
        }
       }
      }
     },
     "metadata": {},
     "output_type": "display_data"
    }
   ],
   "source": [
    "X_pca_3d = visualization_utils.reduce_dimensions(X, method=\"pca\", n_components=3)\n",
    "centers_pca_3d = visualization_utils.reduce_dimensions(centers, method=\"pca\", n_components=3)\n",
    "\n",
    "fig_3d = visualization_utils.plot_clusters_plotly(\n",
    "    X_pca_3d, labels, centers_pca_3d,\n",
    "    point_labels=result_df['species'].to_list(),\n",
    "    title='Interactive Iris Clusters (PCA 3D)'\n",
    ")\n",
    "fig_3d.show()"
   ]
  }
 ],
 "metadata": {
  "kernelspec": {
   "display_name": ".venv",
   "language": "python",
   "name": "python3"
  },
  "language_info": {
   "codemirror_mode": {
    "name": "ipython",
    "version": 3
   },
   "file_extension": ".py",
   "mimetype": "text/x-python",
   "name": "python",
   "nbconvert_exporter": "python",
   "pygments_lexer": "ipython3",
   "version": "3.13.1"
  }
 },
 "nbformat": 4,
 "nbformat_minor": 2
}
